{
  "nbformat": 4,
  "nbformat_minor": 0,
  "metadata": {
    "colab": {
      "provenance": []
    },
    "kernelspec": {
      "name": "python3",
      "display_name": "Python 3"
    },
    "language_info": {
      "name": "python"
    }
  },
  "cells": [
    {
      "cell_type": "code",
      "execution_count": 4,
      "metadata": {
        "id": "ysufz-0KRdeP"
      },
      "outputs": [],
      "source": [
        "import pyfiglet\n",
        "import random"
      ]
    },
    {
      "cell_type": "code",
      "source": [
        "font=random.choice(pyfiglet.FigletFont.getFonts())\n",
        "ascii_art=pyfiglet.figlet_format(\"Amar Sansil\", font=font)\n",
        "greeting=f\"{ascii_art}\\n Hello Amar!\\n{ascii_art}\"\n",
        "print(greeting)"
      ],
      "metadata": {
        "colab": {
          "base_uri": "https://localhost:8080/"
        },
        "id": "yx-wOiV5Rn4l",
        "outputId": "74558fe7-d1b4-4bd6-ba34-bfa41b3e81c5"
      },
      "execution_count": 8,
      "outputs": [
        {
          "output_type": "stream",
          "name": "stdout",
          "text": [
            "  A)aa                              \n",
            " A)  aa                             \n",
            "A)    aa  m)MM MMM  a)AAAA   r)RRR  \n",
            "A)aaaaaa m)  MM  MM  a)AAA  r)   RR \n",
            "A)    aa m)  MM  MM a)   A  r)      \n",
            "A)    aa m)      MM  a)AAAA r)      \n",
            "                                    \n",
            "                                    \n",
            " S)ssss                          ## l)L  \n",
            "S)    ss                             l)  \n",
            " S)ss    a)AAAA  n)NNNN   s)SSSS i)  l)  \n",
            "     S)   a)AAA  n)   NN s)SSSS  i)  l)  \n",
            "S)    ss a)   A  n)   NN      s) i)  l)  \n",
            " S)ssss   a)AAAA n)   NN s)SSSS  i) l)LL \n",
            "                                         \n",
            "                                         \n",
            "\n",
            " Hello Amar!\n",
            "  A)aa                              \n",
            " A)  aa                             \n",
            "A)    aa  m)MM MMM  a)AAAA   r)RRR  \n",
            "A)aaaaaa m)  MM  MM  a)AAA  r)   RR \n",
            "A)    aa m)  MM  MM a)   A  r)      \n",
            "A)    aa m)      MM  a)AAAA r)      \n",
            "                                    \n",
            "                                    \n",
            " S)ssss                          ## l)L  \n",
            "S)    ss                             l)  \n",
            " S)ss    a)AAAA  n)NNNN   s)SSSS i)  l)  \n",
            "     S)   a)AAA  n)   NN s)SSSS  i)  l)  \n",
            "S)    ss a)   A  n)   NN      s) i)  l)  \n",
            " S)ssss   a)AAAA n)   NN s)SSSS  i) l)LL \n",
            "                                         \n",
            "                                         \n",
            "\n"
          ]
        }
      ]
    }
  ]
}