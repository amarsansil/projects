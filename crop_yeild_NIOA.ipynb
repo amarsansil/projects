{
  "cells": [
    {
      "cell_type": "markdown",
      "metadata": {
        "id": "view-in-github",
        "colab_type": "text"
      },
      "source": [
        "<a href=\"https://colab.research.google.com/github/amarsansil/projects/blob/main/crop_yeild_NIOA.ipynb\" target=\"_parent\"><img src=\"https://colab.research.google.com/assets/colab-badge.svg\" alt=\"Open In Colab\"/></a>"
      ]
    },
    {
      "cell_type": "code",
      "execution_count": null,
      "metadata": {
        "id": "QHEQd36-CLXR"
      },
      "outputs": [],
      "source": [
        "import pandas as pd\n",
        "import numpy as np\n",
        "import matplotlib.pyplot as plt\n",
        "import seaborn as sns\n",
        "from sklearn.model_selection import train_test_split\n",
        "import scipy.stats as stats"
      ]
    },
    {
      "cell_type": "code",
      "execution_count": null,
      "metadata": {
        "id": "Qr5ITmD3CZ2y"
      },
      "outputs": [],
      "source": [
        "df = pd.read_excel(\"crop yield data sheet.xlsx\")\n"
      ]
    },
    {
      "cell_type": "code",
      "execution_count": null,
      "metadata": {
        "colab": {
          "base_uri": "https://localhost:8080/",
          "height": 206
        },
        "id": "N7-V7QNW6iBH",
        "outputId": "a9e0315f-0948-41c5-c783-6a9cc9e05c17"
      },
      "outputs": [
        {
          "output_type": "execute_result",
          "data": {
            "text/plain": [
              "   Rain Fall (mm)  Fertilizer Temperatue  Nitrogen (N)  Phosphorus (P)  \\\n",
              "0          1230.0        80.0         28          80.0            24.0   \n",
              "1           480.0        60.0         36          70.0            20.0   \n",
              "2          1250.0        75.0         29          78.0            22.0   \n",
              "3           450.0        65.0         35          70.0            19.0   \n",
              "4          1200.0        80.0         27          79.0            22.0   \n",
              "\n",
              "   Potassium (K)  Yeild (Q/acre)  \n",
              "0           20.0            12.0  \n",
              "1           18.0             8.0  \n",
              "2           19.0            11.0  \n",
              "3           18.0             9.0  \n",
              "4           19.0            11.0  "
            ],
            "text/html": [
              "\n",
              "  <div id=\"df-c2855005-bd6c-42cb-a209-83b65292c56d\" class=\"colab-df-container\">\n",
              "    <div>\n",
              "<style scoped>\n",
              "    .dataframe tbody tr th:only-of-type {\n",
              "        vertical-align: middle;\n",
              "    }\n",
              "\n",
              "    .dataframe tbody tr th {\n",
              "        vertical-align: top;\n",
              "    }\n",
              "\n",
              "    .dataframe thead th {\n",
              "        text-align: right;\n",
              "    }\n",
              "</style>\n",
              "<table border=\"1\" class=\"dataframe\">\n",
              "  <thead>\n",
              "    <tr style=\"text-align: right;\">\n",
              "      <th></th>\n",
              "      <th>Rain Fall (mm)</th>\n",
              "      <th>Fertilizer</th>\n",
              "      <th>Temperatue</th>\n",
              "      <th>Nitrogen (N)</th>\n",
              "      <th>Phosphorus (P)</th>\n",
              "      <th>Potassium (K)</th>\n",
              "      <th>Yeild (Q/acre)</th>\n",
              "    </tr>\n",
              "  </thead>\n",
              "  <tbody>\n",
              "    <tr>\n",
              "      <th>0</th>\n",
              "      <td>1230.0</td>\n",
              "      <td>80.0</td>\n",
              "      <td>28</td>\n",
              "      <td>80.0</td>\n",
              "      <td>24.0</td>\n",
              "      <td>20.0</td>\n",
              "      <td>12.0</td>\n",
              "    </tr>\n",
              "    <tr>\n",
              "      <th>1</th>\n",
              "      <td>480.0</td>\n",
              "      <td>60.0</td>\n",
              "      <td>36</td>\n",
              "      <td>70.0</td>\n",
              "      <td>20.0</td>\n",
              "      <td>18.0</td>\n",
              "      <td>8.0</td>\n",
              "    </tr>\n",
              "    <tr>\n",
              "      <th>2</th>\n",
              "      <td>1250.0</td>\n",
              "      <td>75.0</td>\n",
              "      <td>29</td>\n",
              "      <td>78.0</td>\n",
              "      <td>22.0</td>\n",
              "      <td>19.0</td>\n",
              "      <td>11.0</td>\n",
              "    </tr>\n",
              "    <tr>\n",
              "      <th>3</th>\n",
              "      <td>450.0</td>\n",
              "      <td>65.0</td>\n",
              "      <td>35</td>\n",
              "      <td>70.0</td>\n",
              "      <td>19.0</td>\n",
              "      <td>18.0</td>\n",
              "      <td>9.0</td>\n",
              "    </tr>\n",
              "    <tr>\n",
              "      <th>4</th>\n",
              "      <td>1200.0</td>\n",
              "      <td>80.0</td>\n",
              "      <td>27</td>\n",
              "      <td>79.0</td>\n",
              "      <td>22.0</td>\n",
              "      <td>19.0</td>\n",
              "      <td>11.0</td>\n",
              "    </tr>\n",
              "  </tbody>\n",
              "</table>\n",
              "</div>\n",
              "    <div class=\"colab-df-buttons\">\n",
              "\n",
              "  <div class=\"colab-df-container\">\n",
              "    <button class=\"colab-df-convert\" onclick=\"convertToInteractive('df-c2855005-bd6c-42cb-a209-83b65292c56d')\"\n",
              "            title=\"Convert this dataframe to an interactive table.\"\n",
              "            style=\"display:none;\">\n",
              "\n",
              "  <svg xmlns=\"http://www.w3.org/2000/svg\" height=\"24px\" viewBox=\"0 -960 960 960\">\n",
              "    <path d=\"M120-120v-720h720v720H120Zm60-500h600v-160H180v160Zm220 220h160v-160H400v160Zm0 220h160v-160H400v160ZM180-400h160v-160H180v160Zm440 0h160v-160H620v160ZM180-180h160v-160H180v160Zm440 0h160v-160H620v160Z\"/>\n",
              "  </svg>\n",
              "    </button>\n",
              "\n",
              "  <style>\n",
              "    .colab-df-container {\n",
              "      display:flex;\n",
              "      gap: 12px;\n",
              "    }\n",
              "\n",
              "    .colab-df-convert {\n",
              "      background-color: #E8F0FE;\n",
              "      border: none;\n",
              "      border-radius: 50%;\n",
              "      cursor: pointer;\n",
              "      display: none;\n",
              "      fill: #1967D2;\n",
              "      height: 32px;\n",
              "      padding: 0 0 0 0;\n",
              "      width: 32px;\n",
              "    }\n",
              "\n",
              "    .colab-df-convert:hover {\n",
              "      background-color: #E2EBFA;\n",
              "      box-shadow: 0px 1px 2px rgba(60, 64, 67, 0.3), 0px 1px 3px 1px rgba(60, 64, 67, 0.15);\n",
              "      fill: #174EA6;\n",
              "    }\n",
              "\n",
              "    .colab-df-buttons div {\n",
              "      margin-bottom: 4px;\n",
              "    }\n",
              "\n",
              "    [theme=dark] .colab-df-convert {\n",
              "      background-color: #3B4455;\n",
              "      fill: #D2E3FC;\n",
              "    }\n",
              "\n",
              "    [theme=dark] .colab-df-convert:hover {\n",
              "      background-color: #434B5C;\n",
              "      box-shadow: 0px 1px 3px 1px rgba(0, 0, 0, 0.15);\n",
              "      filter: drop-shadow(0px 1px 2px rgba(0, 0, 0, 0.3));\n",
              "      fill: #FFFFFF;\n",
              "    }\n",
              "  </style>\n",
              "\n",
              "    <script>\n",
              "      const buttonEl =\n",
              "        document.querySelector('#df-c2855005-bd6c-42cb-a209-83b65292c56d button.colab-df-convert');\n",
              "      buttonEl.style.display =\n",
              "        google.colab.kernel.accessAllowed ? 'block' : 'none';\n",
              "\n",
              "      async function convertToInteractive(key) {\n",
              "        const element = document.querySelector('#df-c2855005-bd6c-42cb-a209-83b65292c56d');\n",
              "        const dataTable =\n",
              "          await google.colab.kernel.invokeFunction('convertToInteractive',\n",
              "                                                    [key], {});\n",
              "        if (!dataTable) return;\n",
              "\n",
              "        const docLinkHtml = 'Like what you see? Visit the ' +\n",
              "          '<a target=\"_blank\" href=https://colab.research.google.com/notebooks/data_table.ipynb>data table notebook</a>'\n",
              "          + ' to learn more about interactive tables.';\n",
              "        element.innerHTML = '';\n",
              "        dataTable['output_type'] = 'display_data';\n",
              "        await google.colab.output.renderOutput(dataTable, element);\n",
              "        const docLink = document.createElement('div');\n",
              "        docLink.innerHTML = docLinkHtml;\n",
              "        element.appendChild(docLink);\n",
              "      }\n",
              "    </script>\n",
              "  </div>\n",
              "\n",
              "\n",
              "<div id=\"df-b0ff3081-8a8a-4a78-bd46-329bd4352567\">\n",
              "  <button class=\"colab-df-quickchart\" onclick=\"quickchart('df-b0ff3081-8a8a-4a78-bd46-329bd4352567')\"\n",
              "            title=\"Suggest charts\"\n",
              "            style=\"display:none;\">\n",
              "\n",
              "<svg xmlns=\"http://www.w3.org/2000/svg\" height=\"24px\"viewBox=\"0 0 24 24\"\n",
              "     width=\"24px\">\n",
              "    <g>\n",
              "        <path d=\"M19 3H5c-1.1 0-2 .9-2 2v14c0 1.1.9 2 2 2h14c1.1 0 2-.9 2-2V5c0-1.1-.9-2-2-2zM9 17H7v-7h2v7zm4 0h-2V7h2v10zm4 0h-2v-4h2v4z\"/>\n",
              "    </g>\n",
              "</svg>\n",
              "  </button>\n",
              "\n",
              "<style>\n",
              "  .colab-df-quickchart {\n",
              "      --bg-color: #E8F0FE;\n",
              "      --fill-color: #1967D2;\n",
              "      --hover-bg-color: #E2EBFA;\n",
              "      --hover-fill-color: #174EA6;\n",
              "      --disabled-fill-color: #AAA;\n",
              "      --disabled-bg-color: #DDD;\n",
              "  }\n",
              "\n",
              "  [theme=dark] .colab-df-quickchart {\n",
              "      --bg-color: #3B4455;\n",
              "      --fill-color: #D2E3FC;\n",
              "      --hover-bg-color: #434B5C;\n",
              "      --hover-fill-color: #FFFFFF;\n",
              "      --disabled-bg-color: #3B4455;\n",
              "      --disabled-fill-color: #666;\n",
              "  }\n",
              "\n",
              "  .colab-df-quickchart {\n",
              "    background-color: var(--bg-color);\n",
              "    border: none;\n",
              "    border-radius: 50%;\n",
              "    cursor: pointer;\n",
              "    display: none;\n",
              "    fill: var(--fill-color);\n",
              "    height: 32px;\n",
              "    padding: 0;\n",
              "    width: 32px;\n",
              "  }\n",
              "\n",
              "  .colab-df-quickchart:hover {\n",
              "    background-color: var(--hover-bg-color);\n",
              "    box-shadow: 0 1px 2px rgba(60, 64, 67, 0.3), 0 1px 3px 1px rgba(60, 64, 67, 0.15);\n",
              "    fill: var(--button-hover-fill-color);\n",
              "  }\n",
              "\n",
              "  .colab-df-quickchart-complete:disabled,\n",
              "  .colab-df-quickchart-complete:disabled:hover {\n",
              "    background-color: var(--disabled-bg-color);\n",
              "    fill: var(--disabled-fill-color);\n",
              "    box-shadow: none;\n",
              "  }\n",
              "\n",
              "  .colab-df-spinner {\n",
              "    border: 2px solid var(--fill-color);\n",
              "    border-color: transparent;\n",
              "    border-bottom-color: var(--fill-color);\n",
              "    animation:\n",
              "      spin 1s steps(1) infinite;\n",
              "  }\n",
              "\n",
              "  @keyframes spin {\n",
              "    0% {\n",
              "      border-color: transparent;\n",
              "      border-bottom-color: var(--fill-color);\n",
              "      border-left-color: var(--fill-color);\n",
              "    }\n",
              "    20% {\n",
              "      border-color: transparent;\n",
              "      border-left-color: var(--fill-color);\n",
              "      border-top-color: var(--fill-color);\n",
              "    }\n",
              "    30% {\n",
              "      border-color: transparent;\n",
              "      border-left-color: var(--fill-color);\n",
              "      border-top-color: var(--fill-color);\n",
              "      border-right-color: var(--fill-color);\n",
              "    }\n",
              "    40% {\n",
              "      border-color: transparent;\n",
              "      border-right-color: var(--fill-color);\n",
              "      border-top-color: var(--fill-color);\n",
              "    }\n",
              "    60% {\n",
              "      border-color: transparent;\n",
              "      border-right-color: var(--fill-color);\n",
              "    }\n",
              "    80% {\n",
              "      border-color: transparent;\n",
              "      border-right-color: var(--fill-color);\n",
              "      border-bottom-color: var(--fill-color);\n",
              "    }\n",
              "    90% {\n",
              "      border-color: transparent;\n",
              "      border-bottom-color: var(--fill-color);\n",
              "    }\n",
              "  }\n",
              "</style>\n",
              "\n",
              "  <script>\n",
              "    async function quickchart(key) {\n",
              "      const quickchartButtonEl =\n",
              "        document.querySelector('#' + key + ' button');\n",
              "      quickchartButtonEl.disabled = true;  // To prevent multiple clicks.\n",
              "      quickchartButtonEl.classList.add('colab-df-spinner');\n",
              "      try {\n",
              "        const charts = await google.colab.kernel.invokeFunction(\n",
              "            'suggestCharts', [key], {});\n",
              "      } catch (error) {\n",
              "        console.error('Error during call to suggestCharts:', error);\n",
              "      }\n",
              "      quickchartButtonEl.classList.remove('colab-df-spinner');\n",
              "      quickchartButtonEl.classList.add('colab-df-quickchart-complete');\n",
              "    }\n",
              "    (() => {\n",
              "      let quickchartButtonEl =\n",
              "        document.querySelector('#df-b0ff3081-8a8a-4a78-bd46-329bd4352567 button');\n",
              "      quickchartButtonEl.style.display =\n",
              "        google.colab.kernel.accessAllowed ? 'block' : 'none';\n",
              "    })();\n",
              "  </script>\n",
              "</div>\n",
              "\n",
              "    </div>\n",
              "  </div>\n"
            ],
            "application/vnd.google.colaboratory.intrinsic+json": {
              "type": "dataframe",
              "variable_name": "df",
              "summary": "{\n  \"name\": \"df\",\n  \"rows\": 109,\n  \"fields\": [\n    {\n      \"column\": \"Rain Fall (mm)\",\n      \"properties\": {\n        \"dtype\": \"number\",\n        \"std\": 400.04267577954323,\n        \"min\": 400.0,\n        \"max\": 1300.0,\n        \"num_unique_values\": 25,\n        \"samples\": [\n          400.0,\n          475.0,\n          1230.0\n        ],\n        \"semantic_type\": \"\",\n        \"description\": \"\"\n      }\n    },\n    {\n      \"column\": \"Fertilizer\",\n      \"properties\": {\n        \"dtype\": \"number\",\n        \"std\": 10.028201832502345,\n        \"min\": 50.0,\n        \"max\": 80.0,\n        \"num_unique_values\": 19,\n        \"samples\": [\n          80.0,\n          71.0,\n          76.0\n        ],\n        \"semantic_type\": \"\",\n        \"description\": \"\"\n      }\n    },\n    {\n      \"column\": \"Temperatue\",\n      \"properties\": {\n        \"dtype\": \"category\",\n        \"num_unique_values\": 14,\n        \"samples\": [\n          38,\n          25,\n          28\n        ],\n        \"semantic_type\": \"\",\n        \"description\": \"\"\n      }\n    },\n    {\n      \"column\": \"Nitrogen (N)\",\n      \"properties\": {\n        \"dtype\": \"number\",\n        \"std\": 6.677079067159468,\n        \"min\": 59.0,\n        \"max\": 80.0,\n        \"num_unique_values\": 21,\n        \"samples\": [\n          80.0,\n          63.0,\n          68.0\n        ],\n        \"semantic_type\": \"\",\n        \"description\": \"\"\n      }\n    },\n    {\n      \"column\": \"Phosphorus (P)\",\n      \"properties\": {\n        \"dtype\": \"number\",\n        \"std\": 1.9516945261482999,\n        \"min\": 18.0,\n        \"max\": 25.0,\n        \"num_unique_values\": 8,\n        \"samples\": [\n          20.0,\n          18.0,\n          24.0\n        ],\n        \"semantic_type\": \"\",\n        \"description\": \"\"\n      }\n    },\n    {\n      \"column\": \"Potassium (K)\",\n      \"properties\": {\n        \"dtype\": \"number\",\n        \"std\": 1.817253937632395,\n        \"min\": 15.0,\n        \"max\": 22.0,\n        \"num_unique_values\": 8,\n        \"samples\": [\n          18.0,\n          17.0,\n          20.0\n        ],\n        \"semantic_type\": \"\",\n        \"description\": \"\"\n      }\n    },\n    {\n      \"column\": \"Yeild (Q/acre)\",\n      \"properties\": {\n        \"dtype\": \"number\",\n        \"std\": 1.9659018669517652,\n        \"min\": 5.5,\n        \"max\": 12.0,\n        \"num_unique_values\": 13,\n        \"samples\": [\n          9.5,\n          7.5,\n          12.0\n        ],\n        \"semantic_type\": \"\",\n        \"description\": \"\"\n      }\n    }\n  ]\n}"
            }
          },
          "metadata": {},
          "execution_count": 3
        }
      ],
      "source": [
        "df.head()"
      ]
    },
    {
      "cell_type": "code",
      "execution_count": null,
      "metadata": {
        "colab": {
          "base_uri": "https://localhost:8080/"
        },
        "id": "mKkVMoAvCdwp",
        "outputId": "6799da1e-2c12-4045-f00e-70d7cdb801cb"
      },
      "outputs": [
        {
          "output_type": "execute_result",
          "data": {
            "text/plain": [
              "(109, 7)"
            ]
          },
          "metadata": {},
          "execution_count": 4
        }
      ],
      "source": [
        "#Checking the shape of the dataset\n",
        "df.shape"
      ]
    },
    {
      "cell_type": "code",
      "execution_count": null,
      "metadata": {
        "colab": {
          "base_uri": "https://localhost:8080/"
        },
        "id": "_x4YwvUJgps3",
        "outputId": "0a6c1d40-a868-42dd-b611-440fff5587a3"
      },
      "outputs": [
        {
          "output_type": "stream",
          "name": "stdout",
          "text": [
            "<class 'pandas.core.frame.DataFrame'>\n",
            "RangeIndex: 109 entries, 0 to 108\n",
            "Data columns (total 7 columns):\n",
            " #   Column          Non-Null Count  Dtype  \n",
            "---  ------          --------------  -----  \n",
            " 0   Rain Fall (mm)  99 non-null     float64\n",
            " 1   Fertilizer      99 non-null     float64\n",
            " 2   Temperatue      100 non-null    object \n",
            " 3   Nitrogen (N)    99 non-null     float64\n",
            " 4   Phosphorus (P)  99 non-null     float64\n",
            " 5   Potassium (K)   99 non-null     float64\n",
            " 6   Yeild (Q/acre)  99 non-null     float64\n",
            "dtypes: float64(6), object(1)\n",
            "memory usage: 6.1+ KB\n"
          ]
        }
      ],
      "source": [
        "df.info()"
      ]
    },
    {
      "cell_type": "code",
      "execution_count": null,
      "metadata": {
        "colab": {
          "base_uri": "https://localhost:8080/"
        },
        "id": "iQ632A6B6TPj",
        "outputId": "1b7fcab6-fbcb-4ddb-b04b-91d7012f6a1b"
      },
      "outputs": [
        {
          "output_type": "execute_result",
          "data": {
            "text/plain": [
              "Rain Fall (mm)    10\n",
              "Fertilizer        10\n",
              "Temperatue         9\n",
              "Nitrogen (N)      10\n",
              "Phosphorus (P)    10\n",
              "Potassium (K)     10\n",
              "Yeild (Q/acre)    10\n",
              "dtype: int64"
            ]
          },
          "metadata": {},
          "execution_count": 6
        }
      ],
      "source": [
        "df.isnull().sum()"
      ]
    },
    {
      "cell_type": "code",
      "execution_count": null,
      "metadata": {
        "colab": {
          "base_uri": "https://localhost:8080/"
        },
        "id": "FKGan3ve69dM",
        "outputId": "827d9a7e-f0d7-48c5-b043-9207a2b5ae78"
      },
      "outputs": [
        {
          "output_type": "execute_result",
          "data": {
            "text/plain": [
              "12"
            ]
          },
          "metadata": {},
          "execution_count": 7
        }
      ],
      "source": [
        "df.duplicated().sum()"
      ]
    },
    {
      "cell_type": "code",
      "execution_count": null,
      "metadata": {
        "id": "BE6oJP_H6-8Y"
      },
      "outputs": [],
      "source": [
        "df.drop_duplicates(inplace=True)"
      ]
    },
    {
      "cell_type": "code",
      "execution_count": null,
      "metadata": {
        "colab": {
          "base_uri": "https://localhost:8080/"
        },
        "id": "TpthLMuB7DO7",
        "outputId": "9dd59f7f-e6d4-41d2-8188-514c43b13f68"
      },
      "outputs": [
        {
          "output_type": "execute_result",
          "data": {
            "text/plain": [
              "0"
            ]
          },
          "metadata": {},
          "execution_count": 9
        }
      ],
      "source": [
        "df.duplicated().sum()"
      ]
    },
    {
      "cell_type": "code",
      "execution_count": null,
      "metadata": {
        "colab": {
          "base_uri": "https://localhost:8080/"
        },
        "id": "AZaZutJACizz",
        "outputId": "b15168d9-e3af-4c72-dd10-586c1d4dfcea"
      },
      "outputs": [
        {
          "output_type": "execute_result",
          "data": {
            "text/plain": [
              "Rain Fall (mm)    float64\n",
              "Fertilizer        float64\n",
              "Temperatue         object\n",
              "Nitrogen (N)      float64\n",
              "Phosphorus (P)    float64\n",
              "Potassium (K)     float64\n",
              "Yeild (Q/acre)    float64\n",
              "dtype: object"
            ]
          },
          "metadata": {},
          "execution_count": 10
        }
      ],
      "source": [
        "#Checking the data types of the columns\n",
        "df.dtypes"
      ]
    },
    {
      "cell_type": "code",
      "execution_count": null,
      "metadata": {
        "colab": {
          "base_uri": "https://localhost:8080/"
        },
        "id": "WrXNg6s7ClOq",
        "outputId": "f1714980-8e59-496f-f2cb-1fa3786f3656"
      },
      "outputs": [
        {
          "output_type": "execute_result",
          "data": {
            "text/plain": [
              "array([28, 36, 29, 35, 27, 34, 37, 39, 26, 38, 24, 25, 40, nan, ':'],\n",
              "      dtype=object)"
            ]
          },
          "metadata": {},
          "execution_count": 11
        }
      ],
      "source": [
        "df['Temperatue'].unique()"
      ]
    },
    {
      "cell_type": "code",
      "execution_count": null,
      "metadata": {
        "id": "IN-MaoKSCnEi"
      },
      "outputs": [],
      "source": [
        "#Dropping \":\" from the Temperatue column\n",
        "df = df[df['Temperatue'] != ':']"
      ]
    },
    {
      "cell_type": "code",
      "execution_count": null,
      "metadata": {
        "id": "8uwffndJCpKx"
      },
      "outputs": [],
      "source": [
        "#converting the Temperatue column to float\n",
        "df['Temperatue'] = df['Temperatue'].astype(float)"
      ]
    },
    {
      "cell_type": "code",
      "execution_count": null,
      "metadata": {
        "colab": {
          "base_uri": "https://localhost:8080/"
        },
        "id": "E8qaUcJECq7D",
        "outputId": "da3883fc-c357-4ae3-ce22-fe67524c77fa"
      },
      "outputs": [
        {
          "output_type": "execute_result",
          "data": {
            "text/plain": [
              "Rain Fall (mm)    1\n",
              "Fertilizer        1\n",
              "Temperatue        1\n",
              "Nitrogen (N)      1\n",
              "Phosphorus (P)    1\n",
              "Potassium (K)     1\n",
              "Yeild (Q/acre)    1\n",
              "dtype: int64"
            ]
          },
          "metadata": {},
          "execution_count": 14
        }
      ],
      "source": [
        "#Checking for null values\n",
        "df.isnull().sum()"
      ]
    },
    {
      "cell_type": "code",
      "execution_count": null,
      "metadata": {
        "id": "tO42jW0tCtD6"
      },
      "outputs": [],
      "source": [
        "#replacing missing values with median\n",
        "columns = [df.columns]\n",
        "for col in columns:\n",
        "    df[col] = df[col].fillna(df[col].median())"
      ]
    },
    {
      "cell_type": "code",
      "execution_count": null,
      "metadata": {
        "colab": {
          "base_uri": "https://localhost:8080/",
          "height": 300
        },
        "id": "by9SC_6cCutx",
        "outputId": "6b28fc3c-b77a-408f-f77b-e44164fbe864"
      },
      "outputs": [
        {
          "output_type": "execute_result",
          "data": {
            "text/plain": [
              "       Rain Fall (mm)  Fertilizer  Temperatue  Nitrogen (N)  Phosphorus (P)  \\\n",
              "count       96.000000   96.000000   96.000000     96.000000       96.000000   \n",
              "mean       844.479167   67.625000   32.479167     70.604167       21.041667   \n",
              "std        397.953633    9.909326    5.432803      6.539723        1.913479   \n",
              "min        400.000000   50.000000   24.000000     59.000000       18.000000   \n",
              "25%        450.000000   60.000000   28.000000     65.000000       19.000000   \n",
              "50%       1150.000000   70.000000   29.000000     70.000000       21.000000   \n",
              "75%       1226.250000   77.000000   38.000000     77.000000       23.000000   \n",
              "max       1300.000000   80.000000   40.000000     80.000000       25.000000   \n",
              "\n",
              "       Potassium (K)  Yeild (Q/acre)  \n",
              "count      96.000000       96.000000  \n",
              "mean       18.041667        8.989583  \n",
              "std         1.811755        1.927610  \n",
              "min        15.000000        5.500000  \n",
              "25%        16.000000        7.000000  \n",
              "50%        19.000000        9.000000  \n",
              "75%        19.000000       11.000000  \n",
              "max        22.000000       12.000000  "
            ],
            "text/html": [
              "\n",
              "  <div id=\"df-f337130b-2427-4516-a45e-191280ac4ace\" class=\"colab-df-container\">\n",
              "    <div>\n",
              "<style scoped>\n",
              "    .dataframe tbody tr th:only-of-type {\n",
              "        vertical-align: middle;\n",
              "    }\n",
              "\n",
              "    .dataframe tbody tr th {\n",
              "        vertical-align: top;\n",
              "    }\n",
              "\n",
              "    .dataframe thead th {\n",
              "        text-align: right;\n",
              "    }\n",
              "</style>\n",
              "<table border=\"1\" class=\"dataframe\">\n",
              "  <thead>\n",
              "    <tr style=\"text-align: right;\">\n",
              "      <th></th>\n",
              "      <th>Rain Fall (mm)</th>\n",
              "      <th>Fertilizer</th>\n",
              "      <th>Temperatue</th>\n",
              "      <th>Nitrogen (N)</th>\n",
              "      <th>Phosphorus (P)</th>\n",
              "      <th>Potassium (K)</th>\n",
              "      <th>Yeild (Q/acre)</th>\n",
              "    </tr>\n",
              "  </thead>\n",
              "  <tbody>\n",
              "    <tr>\n",
              "      <th>count</th>\n",
              "      <td>96.000000</td>\n",
              "      <td>96.000000</td>\n",
              "      <td>96.000000</td>\n",
              "      <td>96.000000</td>\n",
              "      <td>96.000000</td>\n",
              "      <td>96.000000</td>\n",
              "      <td>96.000000</td>\n",
              "    </tr>\n",
              "    <tr>\n",
              "      <th>mean</th>\n",
              "      <td>844.479167</td>\n",
              "      <td>67.625000</td>\n",
              "      <td>32.479167</td>\n",
              "      <td>70.604167</td>\n",
              "      <td>21.041667</td>\n",
              "      <td>18.041667</td>\n",
              "      <td>8.989583</td>\n",
              "    </tr>\n",
              "    <tr>\n",
              "      <th>std</th>\n",
              "      <td>397.953633</td>\n",
              "      <td>9.909326</td>\n",
              "      <td>5.432803</td>\n",
              "      <td>6.539723</td>\n",
              "      <td>1.913479</td>\n",
              "      <td>1.811755</td>\n",
              "      <td>1.927610</td>\n",
              "    </tr>\n",
              "    <tr>\n",
              "      <th>min</th>\n",
              "      <td>400.000000</td>\n",
              "      <td>50.000000</td>\n",
              "      <td>24.000000</td>\n",
              "      <td>59.000000</td>\n",
              "      <td>18.000000</td>\n",
              "      <td>15.000000</td>\n",
              "      <td>5.500000</td>\n",
              "    </tr>\n",
              "    <tr>\n",
              "      <th>25%</th>\n",
              "      <td>450.000000</td>\n",
              "      <td>60.000000</td>\n",
              "      <td>28.000000</td>\n",
              "      <td>65.000000</td>\n",
              "      <td>19.000000</td>\n",
              "      <td>16.000000</td>\n",
              "      <td>7.000000</td>\n",
              "    </tr>\n",
              "    <tr>\n",
              "      <th>50%</th>\n",
              "      <td>1150.000000</td>\n",
              "      <td>70.000000</td>\n",
              "      <td>29.000000</td>\n",
              "      <td>70.000000</td>\n",
              "      <td>21.000000</td>\n",
              "      <td>19.000000</td>\n",
              "      <td>9.000000</td>\n",
              "    </tr>\n",
              "    <tr>\n",
              "      <th>75%</th>\n",
              "      <td>1226.250000</td>\n",
              "      <td>77.000000</td>\n",
              "      <td>38.000000</td>\n",
              "      <td>77.000000</td>\n",
              "      <td>23.000000</td>\n",
              "      <td>19.000000</td>\n",
              "      <td>11.000000</td>\n",
              "    </tr>\n",
              "    <tr>\n",
              "      <th>max</th>\n",
              "      <td>1300.000000</td>\n",
              "      <td>80.000000</td>\n",
              "      <td>40.000000</td>\n",
              "      <td>80.000000</td>\n",
              "      <td>25.000000</td>\n",
              "      <td>22.000000</td>\n",
              "      <td>12.000000</td>\n",
              "    </tr>\n",
              "  </tbody>\n",
              "</table>\n",
              "</div>\n",
              "    <div class=\"colab-df-buttons\">\n",
              "\n",
              "  <div class=\"colab-df-container\">\n",
              "    <button class=\"colab-df-convert\" onclick=\"convertToInteractive('df-f337130b-2427-4516-a45e-191280ac4ace')\"\n",
              "            title=\"Convert this dataframe to an interactive table.\"\n",
              "            style=\"display:none;\">\n",
              "\n",
              "  <svg xmlns=\"http://www.w3.org/2000/svg\" height=\"24px\" viewBox=\"0 -960 960 960\">\n",
              "    <path d=\"M120-120v-720h720v720H120Zm60-500h600v-160H180v160Zm220 220h160v-160H400v160Zm0 220h160v-160H400v160ZM180-400h160v-160H180v160Zm440 0h160v-160H620v160ZM180-180h160v-160H180v160Zm440 0h160v-160H620v160Z\"/>\n",
              "  </svg>\n",
              "    </button>\n",
              "\n",
              "  <style>\n",
              "    .colab-df-container {\n",
              "      display:flex;\n",
              "      gap: 12px;\n",
              "    }\n",
              "\n",
              "    .colab-df-convert {\n",
              "      background-color: #E8F0FE;\n",
              "      border: none;\n",
              "      border-radius: 50%;\n",
              "      cursor: pointer;\n",
              "      display: none;\n",
              "      fill: #1967D2;\n",
              "      height: 32px;\n",
              "      padding: 0 0 0 0;\n",
              "      width: 32px;\n",
              "    }\n",
              "\n",
              "    .colab-df-convert:hover {\n",
              "      background-color: #E2EBFA;\n",
              "      box-shadow: 0px 1px 2px rgba(60, 64, 67, 0.3), 0px 1px 3px 1px rgba(60, 64, 67, 0.15);\n",
              "      fill: #174EA6;\n",
              "    }\n",
              "\n",
              "    .colab-df-buttons div {\n",
              "      margin-bottom: 4px;\n",
              "    }\n",
              "\n",
              "    [theme=dark] .colab-df-convert {\n",
              "      background-color: #3B4455;\n",
              "      fill: #D2E3FC;\n",
              "    }\n",
              "\n",
              "    [theme=dark] .colab-df-convert:hover {\n",
              "      background-color: #434B5C;\n",
              "      box-shadow: 0px 1px 3px 1px rgba(0, 0, 0, 0.15);\n",
              "      filter: drop-shadow(0px 1px 2px rgba(0, 0, 0, 0.3));\n",
              "      fill: #FFFFFF;\n",
              "    }\n",
              "  </style>\n",
              "\n",
              "    <script>\n",
              "      const buttonEl =\n",
              "        document.querySelector('#df-f337130b-2427-4516-a45e-191280ac4ace button.colab-df-convert');\n",
              "      buttonEl.style.display =\n",
              "        google.colab.kernel.accessAllowed ? 'block' : 'none';\n",
              "\n",
              "      async function convertToInteractive(key) {\n",
              "        const element = document.querySelector('#df-f337130b-2427-4516-a45e-191280ac4ace');\n",
              "        const dataTable =\n",
              "          await google.colab.kernel.invokeFunction('convertToInteractive',\n",
              "                                                    [key], {});\n",
              "        if (!dataTable) return;\n",
              "\n",
              "        const docLinkHtml = 'Like what you see? Visit the ' +\n",
              "          '<a target=\"_blank\" href=https://colab.research.google.com/notebooks/data_table.ipynb>data table notebook</a>'\n",
              "          + ' to learn more about interactive tables.';\n",
              "        element.innerHTML = '';\n",
              "        dataTable['output_type'] = 'display_data';\n",
              "        await google.colab.output.renderOutput(dataTable, element);\n",
              "        const docLink = document.createElement('div');\n",
              "        docLink.innerHTML = docLinkHtml;\n",
              "        element.appendChild(docLink);\n",
              "      }\n",
              "    </script>\n",
              "  </div>\n",
              "\n",
              "\n",
              "<div id=\"df-9ec20e1e-c230-4442-a76a-a6a728ef0bc0\">\n",
              "  <button class=\"colab-df-quickchart\" onclick=\"quickchart('df-9ec20e1e-c230-4442-a76a-a6a728ef0bc0')\"\n",
              "            title=\"Suggest charts\"\n",
              "            style=\"display:none;\">\n",
              "\n",
              "<svg xmlns=\"http://www.w3.org/2000/svg\" height=\"24px\"viewBox=\"0 0 24 24\"\n",
              "     width=\"24px\">\n",
              "    <g>\n",
              "        <path d=\"M19 3H5c-1.1 0-2 .9-2 2v14c0 1.1.9 2 2 2h14c1.1 0 2-.9 2-2V5c0-1.1-.9-2-2-2zM9 17H7v-7h2v7zm4 0h-2V7h2v10zm4 0h-2v-4h2v4z\"/>\n",
              "    </g>\n",
              "</svg>\n",
              "  </button>\n",
              "\n",
              "<style>\n",
              "  .colab-df-quickchart {\n",
              "      --bg-color: #E8F0FE;\n",
              "      --fill-color: #1967D2;\n",
              "      --hover-bg-color: #E2EBFA;\n",
              "      --hover-fill-color: #174EA6;\n",
              "      --disabled-fill-color: #AAA;\n",
              "      --disabled-bg-color: #DDD;\n",
              "  }\n",
              "\n",
              "  [theme=dark] .colab-df-quickchart {\n",
              "      --bg-color: #3B4455;\n",
              "      --fill-color: #D2E3FC;\n",
              "      --hover-bg-color: #434B5C;\n",
              "      --hover-fill-color: #FFFFFF;\n",
              "      --disabled-bg-color: #3B4455;\n",
              "      --disabled-fill-color: #666;\n",
              "  }\n",
              "\n",
              "  .colab-df-quickchart {\n",
              "    background-color: var(--bg-color);\n",
              "    border: none;\n",
              "    border-radius: 50%;\n",
              "    cursor: pointer;\n",
              "    display: none;\n",
              "    fill: var(--fill-color);\n",
              "    height: 32px;\n",
              "    padding: 0;\n",
              "    width: 32px;\n",
              "  }\n",
              "\n",
              "  .colab-df-quickchart:hover {\n",
              "    background-color: var(--hover-bg-color);\n",
              "    box-shadow: 0 1px 2px rgba(60, 64, 67, 0.3), 0 1px 3px 1px rgba(60, 64, 67, 0.15);\n",
              "    fill: var(--button-hover-fill-color);\n",
              "  }\n",
              "\n",
              "  .colab-df-quickchart-complete:disabled,\n",
              "  .colab-df-quickchart-complete:disabled:hover {\n",
              "    background-color: var(--disabled-bg-color);\n",
              "    fill: var(--disabled-fill-color);\n",
              "    box-shadow: none;\n",
              "  }\n",
              "\n",
              "  .colab-df-spinner {\n",
              "    border: 2px solid var(--fill-color);\n",
              "    border-color: transparent;\n",
              "    border-bottom-color: var(--fill-color);\n",
              "    animation:\n",
              "      spin 1s steps(1) infinite;\n",
              "  }\n",
              "\n",
              "  @keyframes spin {\n",
              "    0% {\n",
              "      border-color: transparent;\n",
              "      border-bottom-color: var(--fill-color);\n",
              "      border-left-color: var(--fill-color);\n",
              "    }\n",
              "    20% {\n",
              "      border-color: transparent;\n",
              "      border-left-color: var(--fill-color);\n",
              "      border-top-color: var(--fill-color);\n",
              "    }\n",
              "    30% {\n",
              "      border-color: transparent;\n",
              "      border-left-color: var(--fill-color);\n",
              "      border-top-color: var(--fill-color);\n",
              "      border-right-color: var(--fill-color);\n",
              "    }\n",
              "    40% {\n",
              "      border-color: transparent;\n",
              "      border-right-color: var(--fill-color);\n",
              "      border-top-color: var(--fill-color);\n",
              "    }\n",
              "    60% {\n",
              "      border-color: transparent;\n",
              "      border-right-color: var(--fill-color);\n",
              "    }\n",
              "    80% {\n",
              "      border-color: transparent;\n",
              "      border-right-color: var(--fill-color);\n",
              "      border-bottom-color: var(--fill-color);\n",
              "    }\n",
              "    90% {\n",
              "      border-color: transparent;\n",
              "      border-bottom-color: var(--fill-color);\n",
              "    }\n",
              "  }\n",
              "</style>\n",
              "\n",
              "  <script>\n",
              "    async function quickchart(key) {\n",
              "      const quickchartButtonEl =\n",
              "        document.querySelector('#' + key + ' button');\n",
              "      quickchartButtonEl.disabled = true;  // To prevent multiple clicks.\n",
              "      quickchartButtonEl.classList.add('colab-df-spinner');\n",
              "      try {\n",
              "        const charts = await google.colab.kernel.invokeFunction(\n",
              "            'suggestCharts', [key], {});\n",
              "      } catch (error) {\n",
              "        console.error('Error during call to suggestCharts:', error);\n",
              "      }\n",
              "      quickchartButtonEl.classList.remove('colab-df-spinner');\n",
              "      quickchartButtonEl.classList.add('colab-df-quickchart-complete');\n",
              "    }\n",
              "    (() => {\n",
              "      let quickchartButtonEl =\n",
              "        document.querySelector('#df-9ec20e1e-c230-4442-a76a-a6a728ef0bc0 button');\n",
              "      quickchartButtonEl.style.display =\n",
              "        google.colab.kernel.accessAllowed ? 'block' : 'none';\n",
              "    })();\n",
              "  </script>\n",
              "</div>\n",
              "\n",
              "    </div>\n",
              "  </div>\n"
            ],
            "application/vnd.google.colaboratory.intrinsic+json": {
              "type": "dataframe",
              "summary": "{\n  \"name\": \"df\",\n  \"rows\": 8,\n  \"fields\": [\n    {\n      \"column\": \"Rain Fall (mm)\",\n      \"properties\": {\n        \"dtype\": \"number\",\n        \"std\": 456.71250360242715,\n        \"min\": 96.0,\n        \"max\": 1300.0,\n        \"num_unique_values\": 8,\n        \"samples\": [\n          844.4791666666666,\n          1150.0,\n          96.0\n        ],\n        \"semantic_type\": \"\",\n        \"description\": \"\"\n      }\n    },\n    {\n      \"column\": \"Fertilizer\",\n      \"properties\": {\n        \"dtype\": \"number\",\n        \"std\": 25.73400513098619,\n        \"min\": 9.9093257511349,\n        \"max\": 96.0,\n        \"num_unique_values\": 8,\n        \"samples\": [\n          67.625,\n          70.0,\n          96.0\n        ],\n        \"semantic_type\": \"\",\n        \"description\": \"\"\n      }\n    },\n    {\n      \"column\": \"Temperatue\",\n      \"properties\": {\n        \"dtype\": \"number\",\n        \"std\": 26.242642111758066,\n        \"min\": 5.432803224597132,\n        \"max\": 96.0,\n        \"num_unique_values\": 8,\n        \"samples\": [\n          32.479166666666664,\n          29.0,\n          96.0\n        ],\n        \"semantic_type\": \"\",\n        \"description\": \"\"\n      }\n    },\n    {\n      \"column\": \"Nitrogen (N)\",\n      \"properties\": {\n        \"dtype\": \"number\",\n        \"std\": 26.289226862759183,\n        \"min\": 6.539723423520321,\n        \"max\": 96.0,\n        \"num_unique_values\": 8,\n        \"samples\": [\n          70.60416666666667,\n          70.0,\n          96.0\n        ],\n        \"semantic_type\": \"\",\n        \"description\": \"\"\n      }\n    },\n    {\n      \"column\": \"Phosphorus (P)\",\n      \"properties\": {\n        \"dtype\": \"number\",\n        \"std\": 28.326693419297357,\n        \"min\": 1.913479424705667,\n        \"max\": 96.0,\n        \"num_unique_values\": 8,\n        \"samples\": [\n          21.041666666666668,\n          21.0,\n          96.0\n        ],\n        \"semantic_type\": \"\",\n        \"description\": \"\"\n      }\n    },\n    {\n      \"column\": \"Potassium (K)\",\n      \"properties\": {\n        \"dtype\": \"number\",\n        \"std\": 28.990742206821572,\n        \"min\": 1.811754989050914,\n        \"max\": 96.0,\n        \"num_unique_values\": 7,\n        \"samples\": [\n          96.0,\n          18.041666666666668,\n          19.0\n        ],\n        \"semantic_type\": \"\",\n        \"description\": \"\"\n      }\n    },\n    {\n      \"column\": \"Yeild (Q/acre)\",\n      \"properties\": {\n        \"dtype\": \"number\",\n        \"std\": 31.30468355762356,\n        \"min\": 1.927609873538057,\n        \"max\": 96.0,\n        \"num_unique_values\": 8,\n        \"samples\": [\n          8.989583333333334,\n          9.0,\n          96.0\n        ],\n        \"semantic_type\": \"\",\n        \"description\": \"\"\n      }\n    }\n  ]\n}"
            }
          },
          "metadata": {},
          "execution_count": 16
        }
      ],
      "source": [
        "df.describe()"
      ]
    },
    {
      "cell_type": "code",
      "execution_count": null,
      "metadata": {
        "colab": {
          "base_uri": "https://localhost:8080/",
          "height": 206
        },
        "id": "szVuAXVjCzJ6",
        "outputId": "17f32404-62be-44e2-e3f5-297b99cc88f3"
      },
      "outputs": [
        {
          "output_type": "execute_result",
          "data": {
            "text/plain": [
              "   Rain Fall (mm)  Fertilizer  Temperatue  Nitrogen (N)  Phosphorus (P)  \\\n",
              "0          1230.0        80.0        28.0          80.0            24.0   \n",
              "1           480.0        60.0        36.0          70.0            20.0   \n",
              "2          1250.0        75.0        29.0          78.0            22.0   \n",
              "3           450.0        65.0        35.0          70.0            19.0   \n",
              "4          1200.0        80.0        27.0          79.0            22.0   \n",
              "\n",
              "   Potassium (K)  Yeild (Q/acre)  \n",
              "0           20.0            12.0  \n",
              "1           18.0             8.0  \n",
              "2           19.0            11.0  \n",
              "3           18.0             9.0  \n",
              "4           19.0            11.0  "
            ],
            "text/html": [
              "\n",
              "  <div id=\"df-e9b61c87-b511-4e46-9369-92ffe32ef805\" class=\"colab-df-container\">\n",
              "    <div>\n",
              "<style scoped>\n",
              "    .dataframe tbody tr th:only-of-type {\n",
              "        vertical-align: middle;\n",
              "    }\n",
              "\n",
              "    .dataframe tbody tr th {\n",
              "        vertical-align: top;\n",
              "    }\n",
              "\n",
              "    .dataframe thead th {\n",
              "        text-align: right;\n",
              "    }\n",
              "</style>\n",
              "<table border=\"1\" class=\"dataframe\">\n",
              "  <thead>\n",
              "    <tr style=\"text-align: right;\">\n",
              "      <th></th>\n",
              "      <th>Rain Fall (mm)</th>\n",
              "      <th>Fertilizer</th>\n",
              "      <th>Temperatue</th>\n",
              "      <th>Nitrogen (N)</th>\n",
              "      <th>Phosphorus (P)</th>\n",
              "      <th>Potassium (K)</th>\n",
              "      <th>Yeild (Q/acre)</th>\n",
              "    </tr>\n",
              "  </thead>\n",
              "  <tbody>\n",
              "    <tr>\n",
              "      <th>0</th>\n",
              "      <td>1230.0</td>\n",
              "      <td>80.0</td>\n",
              "      <td>28.0</td>\n",
              "      <td>80.0</td>\n",
              "      <td>24.0</td>\n",
              "      <td>20.0</td>\n",
              "      <td>12.0</td>\n",
              "    </tr>\n",
              "    <tr>\n",
              "      <th>1</th>\n",
              "      <td>480.0</td>\n",
              "      <td>60.0</td>\n",
              "      <td>36.0</td>\n",
              "      <td>70.0</td>\n",
              "      <td>20.0</td>\n",
              "      <td>18.0</td>\n",
              "      <td>8.0</td>\n",
              "    </tr>\n",
              "    <tr>\n",
              "      <th>2</th>\n",
              "      <td>1250.0</td>\n",
              "      <td>75.0</td>\n",
              "      <td>29.0</td>\n",
              "      <td>78.0</td>\n",
              "      <td>22.0</td>\n",
              "      <td>19.0</td>\n",
              "      <td>11.0</td>\n",
              "    </tr>\n",
              "    <tr>\n",
              "      <th>3</th>\n",
              "      <td>450.0</td>\n",
              "      <td>65.0</td>\n",
              "      <td>35.0</td>\n",
              "      <td>70.0</td>\n",
              "      <td>19.0</td>\n",
              "      <td>18.0</td>\n",
              "      <td>9.0</td>\n",
              "    </tr>\n",
              "    <tr>\n",
              "      <th>4</th>\n",
              "      <td>1200.0</td>\n",
              "      <td>80.0</td>\n",
              "      <td>27.0</td>\n",
              "      <td>79.0</td>\n",
              "      <td>22.0</td>\n",
              "      <td>19.0</td>\n",
              "      <td>11.0</td>\n",
              "    </tr>\n",
              "  </tbody>\n",
              "</table>\n",
              "</div>\n",
              "    <div class=\"colab-df-buttons\">\n",
              "\n",
              "  <div class=\"colab-df-container\">\n",
              "    <button class=\"colab-df-convert\" onclick=\"convertToInteractive('df-e9b61c87-b511-4e46-9369-92ffe32ef805')\"\n",
              "            title=\"Convert this dataframe to an interactive table.\"\n",
              "            style=\"display:none;\">\n",
              "\n",
              "  <svg xmlns=\"http://www.w3.org/2000/svg\" height=\"24px\" viewBox=\"0 -960 960 960\">\n",
              "    <path d=\"M120-120v-720h720v720H120Zm60-500h600v-160H180v160Zm220 220h160v-160H400v160Zm0 220h160v-160H400v160ZM180-400h160v-160H180v160Zm440 0h160v-160H620v160ZM180-180h160v-160H180v160Zm440 0h160v-160H620v160Z\"/>\n",
              "  </svg>\n",
              "    </button>\n",
              "\n",
              "  <style>\n",
              "    .colab-df-container {\n",
              "      display:flex;\n",
              "      gap: 12px;\n",
              "    }\n",
              "\n",
              "    .colab-df-convert {\n",
              "      background-color: #E8F0FE;\n",
              "      border: none;\n",
              "      border-radius: 50%;\n",
              "      cursor: pointer;\n",
              "      display: none;\n",
              "      fill: #1967D2;\n",
              "      height: 32px;\n",
              "      padding: 0 0 0 0;\n",
              "      width: 32px;\n",
              "    }\n",
              "\n",
              "    .colab-df-convert:hover {\n",
              "      background-color: #E2EBFA;\n",
              "      box-shadow: 0px 1px 2px rgba(60, 64, 67, 0.3), 0px 1px 3px 1px rgba(60, 64, 67, 0.15);\n",
              "      fill: #174EA6;\n",
              "    }\n",
              "\n",
              "    .colab-df-buttons div {\n",
              "      margin-bottom: 4px;\n",
              "    }\n",
              "\n",
              "    [theme=dark] .colab-df-convert {\n",
              "      background-color: #3B4455;\n",
              "      fill: #D2E3FC;\n",
              "    }\n",
              "\n",
              "    [theme=dark] .colab-df-convert:hover {\n",
              "      background-color: #434B5C;\n",
              "      box-shadow: 0px 1px 3px 1px rgba(0, 0, 0, 0.15);\n",
              "      filter: drop-shadow(0px 1px 2px rgba(0, 0, 0, 0.3));\n",
              "      fill: #FFFFFF;\n",
              "    }\n",
              "  </style>\n",
              "\n",
              "    <script>\n",
              "      const buttonEl =\n",
              "        document.querySelector('#df-e9b61c87-b511-4e46-9369-92ffe32ef805 button.colab-df-convert');\n",
              "      buttonEl.style.display =\n",
              "        google.colab.kernel.accessAllowed ? 'block' : 'none';\n",
              "\n",
              "      async function convertToInteractive(key) {\n",
              "        const element = document.querySelector('#df-e9b61c87-b511-4e46-9369-92ffe32ef805');\n",
              "        const dataTable =\n",
              "          await google.colab.kernel.invokeFunction('convertToInteractive',\n",
              "                                                    [key], {});\n",
              "        if (!dataTable) return;\n",
              "\n",
              "        const docLinkHtml = 'Like what you see? Visit the ' +\n",
              "          '<a target=\"_blank\" href=https://colab.research.google.com/notebooks/data_table.ipynb>data table notebook</a>'\n",
              "          + ' to learn more about interactive tables.';\n",
              "        element.innerHTML = '';\n",
              "        dataTable['output_type'] = 'display_data';\n",
              "        await google.colab.output.renderOutput(dataTable, element);\n",
              "        const docLink = document.createElement('div');\n",
              "        docLink.innerHTML = docLinkHtml;\n",
              "        element.appendChild(docLink);\n",
              "      }\n",
              "    </script>\n",
              "  </div>\n",
              "\n",
              "\n",
              "<div id=\"df-a650c020-41f5-449c-b60a-bc896aa3283e\">\n",
              "  <button class=\"colab-df-quickchart\" onclick=\"quickchart('df-a650c020-41f5-449c-b60a-bc896aa3283e')\"\n",
              "            title=\"Suggest charts\"\n",
              "            style=\"display:none;\">\n",
              "\n",
              "<svg xmlns=\"http://www.w3.org/2000/svg\" height=\"24px\"viewBox=\"0 0 24 24\"\n",
              "     width=\"24px\">\n",
              "    <g>\n",
              "        <path d=\"M19 3H5c-1.1 0-2 .9-2 2v14c0 1.1.9 2 2 2h14c1.1 0 2-.9 2-2V5c0-1.1-.9-2-2-2zM9 17H7v-7h2v7zm4 0h-2V7h2v10zm4 0h-2v-4h2v4z\"/>\n",
              "    </g>\n",
              "</svg>\n",
              "  </button>\n",
              "\n",
              "<style>\n",
              "  .colab-df-quickchart {\n",
              "      --bg-color: #E8F0FE;\n",
              "      --fill-color: #1967D2;\n",
              "      --hover-bg-color: #E2EBFA;\n",
              "      --hover-fill-color: #174EA6;\n",
              "      --disabled-fill-color: #AAA;\n",
              "      --disabled-bg-color: #DDD;\n",
              "  }\n",
              "\n",
              "  [theme=dark] .colab-df-quickchart {\n",
              "      --bg-color: #3B4455;\n",
              "      --fill-color: #D2E3FC;\n",
              "      --hover-bg-color: #434B5C;\n",
              "      --hover-fill-color: #FFFFFF;\n",
              "      --disabled-bg-color: #3B4455;\n",
              "      --disabled-fill-color: #666;\n",
              "  }\n",
              "\n",
              "  .colab-df-quickchart {\n",
              "    background-color: var(--bg-color);\n",
              "    border: none;\n",
              "    border-radius: 50%;\n",
              "    cursor: pointer;\n",
              "    display: none;\n",
              "    fill: var(--fill-color);\n",
              "    height: 32px;\n",
              "    padding: 0;\n",
              "    width: 32px;\n",
              "  }\n",
              "\n",
              "  .colab-df-quickchart:hover {\n",
              "    background-color: var(--hover-bg-color);\n",
              "    box-shadow: 0 1px 2px rgba(60, 64, 67, 0.3), 0 1px 3px 1px rgba(60, 64, 67, 0.15);\n",
              "    fill: var(--button-hover-fill-color);\n",
              "  }\n",
              "\n",
              "  .colab-df-quickchart-complete:disabled,\n",
              "  .colab-df-quickchart-complete:disabled:hover {\n",
              "    background-color: var(--disabled-bg-color);\n",
              "    fill: var(--disabled-fill-color);\n",
              "    box-shadow: none;\n",
              "  }\n",
              "\n",
              "  .colab-df-spinner {\n",
              "    border: 2px solid var(--fill-color);\n",
              "    border-color: transparent;\n",
              "    border-bottom-color: var(--fill-color);\n",
              "    animation:\n",
              "      spin 1s steps(1) infinite;\n",
              "  }\n",
              "\n",
              "  @keyframes spin {\n",
              "    0% {\n",
              "      border-color: transparent;\n",
              "      border-bottom-color: var(--fill-color);\n",
              "      border-left-color: var(--fill-color);\n",
              "    }\n",
              "    20% {\n",
              "      border-color: transparent;\n",
              "      border-left-color: var(--fill-color);\n",
              "      border-top-color: var(--fill-color);\n",
              "    }\n",
              "    30% {\n",
              "      border-color: transparent;\n",
              "      border-left-color: var(--fill-color);\n",
              "      border-top-color: var(--fill-color);\n",
              "      border-right-color: var(--fill-color);\n",
              "    }\n",
              "    40% {\n",
              "      border-color: transparent;\n",
              "      border-right-color: var(--fill-color);\n",
              "      border-top-color: var(--fill-color);\n",
              "    }\n",
              "    60% {\n",
              "      border-color: transparent;\n",
              "      border-right-color: var(--fill-color);\n",
              "    }\n",
              "    80% {\n",
              "      border-color: transparent;\n",
              "      border-right-color: var(--fill-color);\n",
              "      border-bottom-color: var(--fill-color);\n",
              "    }\n",
              "    90% {\n",
              "      border-color: transparent;\n",
              "      border-bottom-color: var(--fill-color);\n",
              "    }\n",
              "  }\n",
              "</style>\n",
              "\n",
              "  <script>\n",
              "    async function quickchart(key) {\n",
              "      const quickchartButtonEl =\n",
              "        document.querySelector('#' + key + ' button');\n",
              "      quickchartButtonEl.disabled = true;  // To prevent multiple clicks.\n",
              "      quickchartButtonEl.classList.add('colab-df-spinner');\n",
              "      try {\n",
              "        const charts = await google.colab.kernel.invokeFunction(\n",
              "            'suggestCharts', [key], {});\n",
              "      } catch (error) {\n",
              "        console.error('Error during call to suggestCharts:', error);\n",
              "      }\n",
              "      quickchartButtonEl.classList.remove('colab-df-spinner');\n",
              "      quickchartButtonEl.classList.add('colab-df-quickchart-complete');\n",
              "    }\n",
              "    (() => {\n",
              "      let quickchartButtonEl =\n",
              "        document.querySelector('#df-a650c020-41f5-449c-b60a-bc896aa3283e button');\n",
              "      quickchartButtonEl.style.display =\n",
              "        google.colab.kernel.accessAllowed ? 'block' : 'none';\n",
              "    })();\n",
              "  </script>\n",
              "</div>\n",
              "\n",
              "    </div>\n",
              "  </div>\n"
            ],
            "application/vnd.google.colaboratory.intrinsic+json": {
              "type": "dataframe",
              "variable_name": "df",
              "summary": "{\n  \"name\": \"df\",\n  \"rows\": 96,\n  \"fields\": [\n    {\n      \"column\": \"Rain Fall (mm)\",\n      \"properties\": {\n        \"dtype\": \"number\",\n        \"std\": 397.95363335223567,\n        \"min\": 400.0,\n        \"max\": 1300.0,\n        \"num_unique_values\": 25,\n        \"samples\": [\n          400.0,\n          475.0,\n          1230.0\n        ],\n        \"semantic_type\": \"\",\n        \"description\": \"\"\n      }\n    },\n    {\n      \"column\": \"Fertilizer\",\n      \"properties\": {\n        \"dtype\": \"number\",\n        \"std\": 9.9093257511349,\n        \"min\": 50.0,\n        \"max\": 80.0,\n        \"num_unique_values\": 19,\n        \"samples\": [\n          80.0,\n          71.0,\n          76.0\n        ],\n        \"semantic_type\": \"\",\n        \"description\": \"\"\n      }\n    },\n    {\n      \"column\": \"Temperatue\",\n      \"properties\": {\n        \"dtype\": \"number\",\n        \"std\": 5.432803224597132,\n        \"min\": 24.0,\n        \"max\": 40.0,\n        \"num_unique_values\": 13,\n        \"samples\": [\n          25.0,\n          38.0,\n          28.0\n        ],\n        \"semantic_type\": \"\",\n        \"description\": \"\"\n      }\n    },\n    {\n      \"column\": \"Nitrogen (N)\",\n      \"properties\": {\n        \"dtype\": \"number\",\n        \"std\": 6.539723423520321,\n        \"min\": 59.0,\n        \"max\": 80.0,\n        \"num_unique_values\": 21,\n        \"samples\": [\n          80.0,\n          63.0,\n          68.0\n        ],\n        \"semantic_type\": \"\",\n        \"description\": \"\"\n      }\n    },\n    {\n      \"column\": \"Phosphorus (P)\",\n      \"properties\": {\n        \"dtype\": \"number\",\n        \"std\": 1.913479424705667,\n        \"min\": 18.0,\n        \"max\": 25.0,\n        \"num_unique_values\": 8,\n        \"samples\": [\n          20.0,\n          18.0,\n          24.0\n        ],\n        \"semantic_type\": \"\",\n        \"description\": \"\"\n      }\n    },\n    {\n      \"column\": \"Potassium (K)\",\n      \"properties\": {\n        \"dtype\": \"number\",\n        \"std\": 1.811754989050914,\n        \"min\": 15.0,\n        \"max\": 22.0,\n        \"num_unique_values\": 8,\n        \"samples\": [\n          18.0,\n          17.0,\n          20.0\n        ],\n        \"semantic_type\": \"\",\n        \"description\": \"\"\n      }\n    },\n    {\n      \"column\": \"Yeild (Q/acre)\",\n      \"properties\": {\n        \"dtype\": \"number\",\n        \"std\": 1.927609873538057,\n        \"min\": 5.5,\n        \"max\": 12.0,\n        \"num_unique_values\": 13,\n        \"samples\": [\n          9.5,\n          7.5,\n          12.0\n        ],\n        \"semantic_type\": \"\",\n        \"description\": \"\"\n      }\n    }\n  ]\n}"
            }
          },
          "metadata": {},
          "execution_count": 17
        }
      ],
      "source": [
        "df.head()"
      ]
    },
    {
      "cell_type": "code",
      "execution_count": null,
      "metadata": {
        "colab": {
          "base_uri": "https://localhost:8080/"
        },
        "id": "Q4BNd0rp7hz8",
        "outputId": "87227cff-65e7-49ef-aad0-0f6ef8367334"
      },
      "outputs": [
        {
          "output_type": "execute_result",
          "data": {
            "text/plain": [
              "13"
            ]
          },
          "metadata": {},
          "execution_count": 18
        }
      ],
      "source": [
        "len(df['Yeild (Q/acre)'].unique())"
      ]
    },
    {
      "cell_type": "code",
      "execution_count": null,
      "metadata": {
        "colab": {
          "base_uri": "https://localhost:8080/",
          "height": 850
        },
        "id": "wmYEAP5w7vyg",
        "outputId": "ed1d69b8-1aa6-495f-b9d6-47140743ca02"
      },
      "outputs": [
        {
          "output_type": "display_data",
          "data": {
            "text/plain": [
              "<Figure size 500x1000 with 1 Axes>"
            ],
            "image/png": "[encoded data removed]"
          },
          "metadata": {}
        }
      ],
      "source": [
        "plt.figure(figsize=(5,10))\n",
        "sns.countplot(y=df['Yeild (Q/acre)'])\n",
        "plt.show()"
      ]
    },
    {
      "cell_type": "code",
      "execution_count": null,
      "metadata": {
        "colab": {
          "base_uri": "https://localhost:8080/"
        },
        "id": "5LEw1SBu74K7",
        "outputId": "a9ac84a4-54f9-4983-f501-c7ab2df93a24"
      },
      "outputs": [
        {
          "output_type": "execute_result",
          "data": {
            "text/plain": [
              "13"
            ]
          },
          "metadata": {},
          "execution_count": 20
        }
      ],
      "source": [
        "(df['Yeild (Q/acre)'].value_counts() < 500).sum()"
      ]
    },
    {
      "cell_type": "code",
      "execution_count": null,
      "metadata": {
        "colab": {
          "base_uri": "https://localhost:8080/",
          "height": 466
        },
        "id": "hIIv9JS6C1_J",
        "outputId": "c3a795bb-37ae-4573-c2f7-39706bce022b"
      },
      "outputs": [
        {
          "output_type": "execute_result",
          "data": {
            "text/plain": [
              "<Axes: xlabel='Rain Fall (mm)', ylabel='Count'>"
            ]
          },
          "metadata": {},
          "execution_count": 21
        },
        {
          "output_type": "display_data",
          "data": {
            "text/plain": [
              "<Figure size 640x480 with 1 Axes>"
            ],
            "image/png": "[encoded data removed]"
          },
          "metadata": {}
        }
      ],
      "source": [
        "sns.histplot(x = \"Rain Fall (mm)\", data = df, kde = True)"
      ]
    },
    {
      "cell_type": "code",
      "execution_count": null,
      "metadata": {
        "colab": {
          "base_uri": "https://localhost:8080/",
          "height": 466
        },
        "id": "7VFiWCwVC6ba",
        "outputId": "b66c2048-cabc-4256-e28d-10c09f0cab69"
      },
      "outputs": [
        {
          "output_type": "execute_result",
          "data": {
            "text/plain": [
              "<Axes: xlabel='Fertilizer', ylabel='Count'>"
            ]
          },
          "metadata": {},
          "execution_count": 22
        },
        {
          "output_type": "display_data",
          "data": {
            "text/plain": [
              "<Figure size 640x480 with 1 Axes>"
            ],
            "image/png": "[encoded data removed]"
          },
          "metadata": {}
        }
      ],
      "source": [
        "sns.histplot(x = \"Fertilizer\", data = df, kde = True)"
      ]
    },
    {
      "cell_type": "code",
      "execution_count": null,
      "metadata": {
        "colab": {
          "base_uri": "https://localhost:8080/",
          "height": 466
        },
        "id": "gnvfph1OC9Tq",
        "outputId": "84d35089-e8d7-4d9a-f8e6-b80a414aa253"
      },
      "outputs": [
        {
          "output_type": "execute_result",
          "data": {
            "text/plain": [
              "<Axes: xlabel='Temperatue', ylabel='Count'>"
            ]
          },
          "metadata": {},
          "execution_count": 23
        },
        {
          "output_type": "display_data",
          "data": {
            "text/plain": [
              "<Figure size 640x480 with 1 Axes>"
            ],
            "image/png": "[encoded data removed]"
          },
          "metadata": {}
        }
      ],
      "source": [
        "sns.histplot(x=\"Temperatue\", data = df, kde = True)"
      ]
    },
    {
      "cell_type": "code",
      "execution_count": null,
      "metadata": {
        "colab": {
          "base_uri": "https://localhost:8080/",
          "height": 482
        },
        "id": "adD6O3cJDEJ6",
        "outputId": "8d12bac2-e773-4ee7-bc6d-f87eb0f605ee"
      },
      "outputs": [
        {
          "output_type": "execute_result",
          "data": {
            "text/plain": [
              "<Axes: xlabel='Potassium (K)', ylabel='Count'>"
            ]
          },
          "metadata": {},
          "execution_count": 24
        },
        {
          "output_type": "display_data",
          "data": {
            "text/plain": [
              "<Figure size 1000x500 with 3 Axes>"
            ],
            "image/png": "[encoded data removed]"
          },
          "metadata": {}
        }
      ],
      "source": [
        "fig, ax = plt.subplots(1,3,figsize=(10, 5))\n",
        "sns.histplot(x = \"Nitrogen (N)\", data = df, kde = True, ax = ax[0])\n",
        "sns.histplot(x = \"Phosphorus (P)\", data = df, kde = True, ax = ax[1])\n",
        "sns.histplot(x = \"Potassium (K)\", data = df, kde = True, ax = ax[2])"
      ]
    },
    {
      "cell_type": "code",
      "execution_count": null,
      "metadata": {
        "colab": {
          "base_uri": "https://localhost:8080/",
          "height": 466
        },
        "id": "mTxclJKeDFxh",
        "outputId": "3ece5810-79a6-49f1-d80a-ca05bb42a549"
      },
      "outputs": [
        {
          "output_type": "execute_result",
          "data": {
            "text/plain": [
              "<Axes: xlabel='Yeild (Q/acre)', ylabel='Count'>"
            ]
          },
          "metadata": {},
          "execution_count": 25
        },
        {
          "output_type": "display_data",
          "data": {
            "text/plain": [
              "<Figure size 640x480 with 1 Axes>"
            ],
            "image/png": "[encoded data removed]"
          },
          "metadata": {}
        }
      ],
      "source": [
        "sns.histplot(x = \"Yeild (Q/acre)\", data = df, kde = True)\n"
      ]
    },
    {
      "cell_type": "code",
      "execution_count": null,
      "metadata": {
        "colab": {
          "base_uri": "https://localhost:8080/",
          "height": 466
        },
        "id": "q4usXB6aDJvi",
        "outputId": "949b71ed-21f1-4f07-c12b-7ee1d9def3c1"
      },
      "outputs": [
        {
          "output_type": "execute_result",
          "data": {
            "text/plain": [
              "<Axes: xlabel='Rain Fall (mm)', ylabel='Yeild (Q/acre)'>"
            ]
          },
          "metadata": {},
          "execution_count": 26
        },
        {
          "output_type": "display_data",
          "data": {
            "text/plain": [
              "<Figure size 640x480 with 1 Axes>"
            ],
            "image/png": "[encoded data removed]"
          },
          "metadata": {}
        }
      ],
      "source": [
        "sns.scatterplot(x = 'Rain Fall (mm)', y = 'Yeild (Q/acre)', data = df)"
      ]
    },
    {
      "cell_type": "code",
      "execution_count": null,
      "metadata": {
        "colab": {
          "base_uri": "https://localhost:8080/",
          "height": 466
        },
        "id": "7__dNBLuDMYa",
        "outputId": "1d94f3e8-0c70-47f0-be94-fc499c362fe3"
      },
      "outputs": [
        {
          "output_type": "execute_result",
          "data": {
            "text/plain": [
              "<Axes: xlabel='Fertilizer', ylabel='Yeild (Q/acre)'>"
            ]
          },
          "metadata": {},
          "execution_count": 27
        },
        {
          "output_type": "display_data",
          "data": {
            "text/plain": [
              "<Figure size 640x480 with 1 Axes>"
            ],
            "image/png": "[encoded data removed]"
          },
          "metadata": {}
        }
      ],
      "source": [
        "sns.scatterplot(x = 'Fertilizer', y = 'Yeild (Q/acre)', data = df)"
      ]
    },
    {
      "cell_type": "code",
      "execution_count": null,
      "metadata": {
        "colab": {
          "base_uri": "https://localhost:8080/",
          "height": 466
        },
        "id": "2EbSu1A8DPdB",
        "outputId": "5912e172-9bf2-4322-97c1-04bd3b992204"
      },
      "outputs": [
        {
          "output_type": "execute_result",
          "data": {
            "text/plain": [
              "<Axes: xlabel='Temperatue', ylabel='Yeild (Q/acre)'>"
            ]
          },
          "metadata": {},
          "execution_count": 28
        },
        {
          "output_type": "display_data",
          "data": {
            "text/plain": [
              "<Figure size 640x480 with 1 Axes>"
            ],
            "image/png": "[encoded data removed]"
          },
          "metadata": {}
        }
      ],
      "source": [
        "\n",
        "sns.scatterplot(x = 'Temperatue', y = 'Yeild (Q/acre)', data = df)"
      ]
    },
    {
      "cell_type": "code",
      "execution_count": null,
      "metadata": {
        "colab": {
          "base_uri": "https://localhost:8080/",
          "height": 409
        },
        "id": "t1EmhAdIDS_B",
        "outputId": "5045d681-06e3-4788-e384-bb262ad620f1"
      },
      "outputs": [
        {
          "output_type": "execute_result",
          "data": {
            "text/plain": [
              "<Axes: xlabel='Potassium (K)', ylabel='Yeild (Q/acre)'>"
            ]
          },
          "metadata": {},
          "execution_count": 29
        },
        {
          "output_type": "display_data",
          "data": {
            "text/plain": [
              "<Figure size 1500x500 with 3 Axes>"
            ],
            "image/png": "[encoded data removed]"
          },
          "metadata": {}
        }
      ],
      "source": [
        "fig, ax = plt.subplots(1,3,figsize=(15, 5))\n",
        "sns.regplot(x = 'Nitrogen (N)', y = 'Yeild (Q/acre)', data = df, ax = ax[0])\n",
        "sns.regplot(x = 'Phosphorus (P)', y = 'Yeild (Q/acre)', data = df, ax = ax[1])\n",
        "sns.regplot(x = 'Potassium (K)', y = 'Yeild (Q/acre)', data = df, ax = ax[2])"
      ]
    },
    {
      "cell_type": "code",
      "execution_count": null,
      "metadata": {
        "id": "1mJ2LpNZRGHT"
      },
      "outputs": [],
      "source": [
        "z_scores = np.abs(stats.zscore(df[\"Phosphorus (P)\"]))\n",
        "z_scores = np.abs(stats.zscore(df[\"Nitrogen (N)\"]))\n",
        "z_scores = np.abs(stats.zscore(df[\"Potassium (K)\"]))\n",
        "outliers = df[z_scores > 3]\n",
        "cleaned_data = df.drop(outliers.index)"
      ]
    },
    {
      "cell_type": "code",
      "execution_count": null,
      "metadata": {
        "colab": {
          "base_uri": "https://localhost:8080/",
          "height": 542
        },
        "id": "mtOaAihKDVnZ",
        "outputId": "1d4495c8-70d5-4f7a-8c21-2abb8690885c"
      },
      "outputs": [
        {
          "output_type": "execute_result",
          "data": {
            "text/plain": [
              "<Axes: >"
            ]
          },
          "metadata": {},
          "execution_count": 32
        },
        {
          "output_type": "display_data",
          "data": {
            "text/plain": [
              "<Figure size 640x480 with 2 Axes>"
            ],
            "image/png": "[encoded data removed]"
          },
          "metadata": {}
        }
      ],
      "source": [
        "sns.heatmap(df.corr(), annot = True)"
      ]
    },
    {
      "cell_type": "code",
      "execution_count": null,
      "metadata": {
        "id": "ywKj0yij9IiR"
      },
      "outputs": [],
      "source": [
        "X = df.iloc[:, :-1]\n",
        "y = df.iloc[:, -1]"
      ]
    },
    {
      "cell_type": "code",
      "execution_count": null,
      "metadata": {
        "id": "V04v_yKpDaHK"
      },
      "outputs": [],
      "source": [
        "X_train, X_test, y_train, y_test = train_test_split(X, y, train_size=0.8, random_state=0, shuffle=True)"
      ]
    },
    {
      "cell_type": "code",
      "execution_count": null,
      "metadata": {
        "colab": {
          "base_uri": "https://localhost:8080/",
          "height": 144
        },
        "id": "-IxJQ0K-9M7g",
        "outputId": "1f50654e-32f6-4feb-b056-01c0cefd7f89"
      },
      "outputs": [
        {
          "output_type": "execute_result",
          "data": {
            "text/plain": [
              "   Rain Fall (mm)  Fertilizer  Temperatue  Nitrogen (N)  Phosphorus (P)  \\\n",
              "0          1230.0        80.0        28.0          80.0            24.0   \n",
              "1           480.0        60.0        36.0          70.0            20.0   \n",
              "2          1250.0        75.0        29.0          78.0            22.0   \n",
              "\n",
              "   Potassium (K)  Yeild (Q/acre)  \n",
              "0           20.0            12.0  \n",
              "1           18.0             8.0  \n",
              "2           19.0            11.0  "
            ],
            "text/html": [
              "\n",
              "  <div id=\"df-87b0e3ea-b3c1-4710-8620-431d4f6e5439\" class=\"colab-df-container\">\n",
              "    <div>\n",
              "<style scoped>\n",
              "    .dataframe tbody tr th:only-of-type {\n",
              "        vertical-align: middle;\n",
              "    }\n",
              "\n",
              "    .dataframe tbody tr th {\n",
              "        vertical-align: top;\n",
              "    }\n",
              "\n",
              "    .dataframe thead th {\n",
              "        text-align: right;\n",
              "    }\n",
              "</style>\n",
              "<table border=\"1\" class=\"dataframe\">\n",
              "  <thead>\n",
              "    <tr style=\"text-align: right;\">\n",
              "      <th></th>\n",
              "      <th>Rain Fall (mm)</th>\n",
              "      <th>Fertilizer</th>\n",
              "      <th>Temperatue</th>\n",
              "      <th>Nitrogen (N)</th>\n",
              "      <th>Phosphorus (P)</th>\n",
              "      <th>Potassium (K)</th>\n",
              "      <th>Yeild (Q/acre)</th>\n",
              "    </tr>\n",
              "  </thead>\n",
              "  <tbody>\n",
              "    <tr>\n",
              "      <th>0</th>\n",
              "      <td>1230.0</td>\n",
              "      <td>80.0</td>\n",
              "      <td>28.0</td>\n",
              "      <td>80.0</td>\n",
              "      <td>24.0</td>\n",
              "      <td>20.0</td>\n",
              "      <td>12.0</td>\n",
              "    </tr>\n",
              "    <tr>\n",
              "      <th>1</th>\n",
              "      <td>480.0</td>\n",
              "      <td>60.0</td>\n",
              "      <td>36.0</td>\n",
              "      <td>70.0</td>\n",
              "      <td>20.0</td>\n",
              "      <td>18.0</td>\n",
              "      <td>8.0</td>\n",
              "    </tr>\n",
              "    <tr>\n",
              "      <th>2</th>\n",
              "      <td>1250.0</td>\n",
              "      <td>75.0</td>\n",
              "      <td>29.0</td>\n",
              "      <td>78.0</td>\n",
              "      <td>22.0</td>\n",
              "      <td>19.0</td>\n",
              "      <td>11.0</td>\n",
              "    </tr>\n",
              "  </tbody>\n",
              "</table>\n",
              "</div>\n",
              "    <div class=\"colab-df-buttons\">\n",
              "\n",
              "  <div class=\"colab-df-container\">\n",
              "    <button class=\"colab-df-convert\" onclick=\"convertToInteractive('df-87b0e3ea-b3c1-4710-8620-431d4f6e5439')\"\n",
              "            title=\"Convert this dataframe to an interactive table.\"\n",
              "            style=\"display:none;\">\n",
              "\n",
              "  <svg xmlns=\"http://www.w3.org/2000/svg\" height=\"24px\" viewBox=\"0 -960 960 960\">\n",
              "    <path d=\"M120-120v-720h720v720H120Zm60-500h600v-160H180v160Zm220 220h160v-160H400v160Zm0 220h160v-160H400v160ZM180-400h160v-160H180v160Zm440 0h160v-160H620v160ZM180-180h160v-160H180v160Zm440 0h160v-160H620v160Z\"/>\n",
              "  </svg>\n",
              "    </button>\n",
              "\n",
              "  <style>\n",
              "    .colab-df-container {\n",
              "      display:flex;\n",
              "      gap: 12px;\n",
              "    }\n",
              "\n",
              "    .colab-df-convert {\n",
              "      background-color: #E8F0FE;\n",
              "      border: none;\n",
              "      border-radius: 50%;\n",
              "      cursor: pointer;\n",
              "      display: none;\n",
              "      fill: #1967D2;\n",
              "      height: 32px;\n",
              "      padding: 0 0 0 0;\n",
              "      width: 32px;\n",
              "    }\n",
              "\n",
              "    .colab-df-convert:hover {\n",
              "      background-color: #E2EBFA;\n",
              "      box-shadow: 0px 1px 2px rgba(60, 64, 67, 0.3), 0px 1px 3px 1px rgba(60, 64, 67, 0.15);\n",
              "      fill: #174EA6;\n",
              "    }\n",
              "\n",
              "    .colab-df-buttons div {\n",
              "      margin-bottom: 4px;\n",
              "    }\n",
              "\n",
              "    [theme=dark] .colab-df-convert {\n",
              "      background-color: #3B4455;\n",
              "      fill: #D2E3FC;\n",
              "    }\n",
              "\n",
              "    [theme=dark] .colab-df-convert:hover {\n",
              "      background-color: #434B5C;\n",
              "      box-shadow: 0px 1px 3px 1px rgba(0, 0, 0, 0.15);\n",
              "      filter: drop-shadow(0px 1px 2px rgba(0, 0, 0, 0.3));\n",
              "      fill: #FFFFFF;\n",
              "    }\n",
              "  </style>\n",
              "\n",
              "    <script>\n",
              "      const buttonEl =\n",
              "        document.querySelector('#df-87b0e3ea-b3c1-4710-8620-431d4f6e5439 button.colab-df-convert');\n",
              "      buttonEl.style.display =\n",
              "        google.colab.kernel.accessAllowed ? 'block' : 'none';\n",
              "\n",
              "      async function convertToInteractive(key) {\n",
              "        const element = document.querySelector('#df-87b0e3ea-b3c1-4710-8620-431d4f6e5439');\n",
              "        const dataTable =\n",
              "          await google.colab.kernel.invokeFunction('convertToInteractive',\n",
              "                                                    [key], {});\n",
              "        if (!dataTable) return;\n",
              "\n",
              "        const docLinkHtml = 'Like what you see? Visit the ' +\n",
              "          '<a target=\"_blank\" href=https://colab.research.google.com/notebooks/data_table.ipynb>data table notebook</a>'\n",
              "          + ' to learn more about interactive tables.';\n",
              "        element.innerHTML = '';\n",
              "        dataTable['output_type'] = 'display_data';\n",
              "        await google.colab.output.renderOutput(dataTable, element);\n",
              "        const docLink = document.createElement('div');\n",
              "        docLink.innerHTML = docLinkHtml;\n",
              "        element.appendChild(docLink);\n",
              "      }\n",
              "    </script>\n",
              "  </div>\n",
              "\n",
              "\n",
              "<div id=\"df-a15cb132-c8b4-4366-8a75-d85b04b1fa6d\">\n",
              "  <button class=\"colab-df-quickchart\" onclick=\"quickchart('df-a15cb132-c8b4-4366-8a75-d85b04b1fa6d')\"\n",
              "            title=\"Suggest charts\"\n",
              "            style=\"display:none;\">\n",
              "\n",
              "<svg xmlns=\"http://www.w3.org/2000/svg\" height=\"24px\"viewBox=\"0 0 24 24\"\n",
              "     width=\"24px\">\n",
              "    <g>\n",
              "        <path d=\"M19 3H5c-1.1 0-2 .9-2 2v14c0 1.1.9 2 2 2h14c1.1 0 2-.9 2-2V5c0-1.1-.9-2-2-2zM9 17H7v-7h2v7zm4 0h-2V7h2v10zm4 0h-2v-4h2v4z\"/>\n",
              "    </g>\n",
              "</svg>\n",
              "  </button>\n",
              "\n",
              "<style>\n",
              "  .colab-df-quickchart {\n",
              "      --bg-color: #E8F0FE;\n",
              "      --fill-color: #1967D2;\n",
              "      --hover-bg-color: #E2EBFA;\n",
              "      --hover-fill-color: #174EA6;\n",
              "      --disabled-fill-color: #AAA;\n",
              "      --disabled-bg-color: #DDD;\n",
              "  }\n",
              "\n",
              "  [theme=dark] .colab-df-quickchart {\n",
              "      --bg-color: #3B4455;\n",
              "      --fill-color: #D2E3FC;\n",
              "      --hover-bg-color: #434B5C;\n",
              "      --hover-fill-color: #FFFFFF;\n",
              "      --disabled-bg-color: #3B4455;\n",
              "      --disabled-fill-color: #666;\n",
              "  }\n",
              "\n",
              "  .colab-df-quickchart {\n",
              "    background-color: var(--bg-color);\n",
              "    border: none;\n",
              "    border-radius: 50%;\n",
              "    cursor: pointer;\n",
              "    display: none;\n",
              "    fill: var(--fill-color);\n",
              "    height: 32px;\n",
              "    padding: 0;\n",
              "    width: 32px;\n",
              "  }\n",
              "\n",
              "  .colab-df-quickchart:hover {\n",
              "    background-color: var(--hover-bg-color);\n",
              "    box-shadow: 0 1px 2px rgba(60, 64, 67, 0.3), 0 1px 3px 1px rgba(60, 64, 67, 0.15);\n",
              "    fill: var(--button-hover-fill-color);\n",
              "  }\n",
              "\n",
              "  .colab-df-quickchart-complete:disabled,\n",
              "  .colab-df-quickchart-complete:disabled:hover {\n",
              "    background-color: var(--disabled-bg-color);\n",
              "    fill: var(--disabled-fill-color);\n",
              "    box-shadow: none;\n",
              "  }\n",
              "\n",
              "  .colab-df-spinner {\n",
              "    border: 2px solid var(--fill-color);\n",
              "    border-color: transparent;\n",
              "    border-bottom-color: var(--fill-color);\n",
              "    animation:\n",
              "      spin 1s steps(1) infinite;\n",
              "  }\n",
              "\n",
              "  @keyframes spin {\n",
              "    0% {\n",
              "      border-color: transparent;\n",
              "      border-bottom-color: var(--fill-color);\n",
              "      border-left-color: var(--fill-color);\n",
              "    }\n",
              "    20% {\n",
              "      border-color: transparent;\n",
              "      border-left-color: var(--fill-color);\n",
              "      border-top-color: var(--fill-color);\n",
              "    }\n",
              "    30% {\n",
              "      border-color: transparent;\n",
              "      border-left-color: var(--fill-color);\n",
              "      border-top-color: var(--fill-color);\n",
              "      border-right-color: var(--fill-color);\n",
              "    }\n",
              "    40% {\n",
              "      border-color: transparent;\n",
              "      border-right-color: var(--fill-color);\n",
              "      border-top-color: var(--fill-color);\n",
              "    }\n",
              "    60% {\n",
              "      border-color: transparent;\n",
              "      border-right-color: var(--fill-color);\n",
              "    }\n",
              "    80% {\n",
              "      border-color: transparent;\n",
              "      border-right-color: var(--fill-color);\n",
              "      border-bottom-color: var(--fill-color);\n",
              "    }\n",
              "    90% {\n",
              "      border-color: transparent;\n",
              "      border-bottom-color: var(--fill-color);\n",
              "    }\n",
              "  }\n",
              "</style>\n",
              "\n",
              "  <script>\n",
              "    async function quickchart(key) {\n",
              "      const quickchartButtonEl =\n",
              "        document.querySelector('#' + key + ' button');\n",
              "      quickchartButtonEl.disabled = true;  // To prevent multiple clicks.\n",
              "      quickchartButtonEl.classList.add('colab-df-spinner');\n",
              "      try {\n",
              "        const charts = await google.colab.kernel.invokeFunction(\n",
              "            'suggestCharts', [key], {});\n",
              "      } catch (error) {\n",
              "        console.error('Error during call to suggestCharts:', error);\n",
              "      }\n",
              "      quickchartButtonEl.classList.remove('colab-df-spinner');\n",
              "      quickchartButtonEl.classList.add('colab-df-quickchart-complete');\n",
              "    }\n",
              "    (() => {\n",
              "      let quickchartButtonEl =\n",
              "        document.querySelector('#df-a15cb132-c8b4-4366-8a75-d85b04b1fa6d button');\n",
              "      quickchartButtonEl.style.display =\n",
              "        google.colab.kernel.accessAllowed ? 'block' : 'none';\n",
              "    })();\n",
              "  </script>\n",
              "</div>\n",
              "\n",
              "    </div>\n",
              "  </div>\n"
            ],
            "application/vnd.google.colaboratory.intrinsic+json": {
              "type": "dataframe",
              "variable_name": "df",
              "summary": "{\n  \"name\": \"df\",\n  \"rows\": 96,\n  \"fields\": [\n    {\n      \"column\": \"Rain Fall (mm)\",\n      \"properties\": {\n        \"dtype\": \"number\",\n        \"std\": 397.95363335223567,\n        \"min\": 400.0,\n        \"max\": 1300.0,\n        \"num_unique_values\": 25,\n        \"samples\": [\n          400.0,\n          475.0,\n          1230.0\n        ],\n        \"semantic_type\": \"\",\n        \"description\": \"\"\n      }\n    },\n    {\n      \"column\": \"Fertilizer\",\n      \"properties\": {\n        \"dtype\": \"number\",\n        \"std\": 9.9093257511349,\n        \"min\": 50.0,\n        \"max\": 80.0,\n        \"num_unique_values\": 19,\n        \"samples\": [\n          80.0,\n          71.0,\n          76.0\n        ],\n        \"semantic_type\": \"\",\n        \"description\": \"\"\n      }\n    },\n    {\n      \"column\": \"Temperatue\",\n      \"properties\": {\n        \"dtype\": \"number\",\n        \"std\": 5.432803224597132,\n        \"min\": 24.0,\n        \"max\": 40.0,\n        \"num_unique_values\": 13,\n        \"samples\": [\n          25.0,\n          38.0,\n          28.0\n        ],\n        \"semantic_type\": \"\",\n        \"description\": \"\"\n      }\n    },\n    {\n      \"column\": \"Nitrogen (N)\",\n      \"properties\": {\n        \"dtype\": \"number\",\n        \"std\": 6.539723423520321,\n        \"min\": 59.0,\n        \"max\": 80.0,\n        \"num_unique_values\": 21,\n        \"samples\": [\n          80.0,\n          63.0,\n          68.0\n        ],\n        \"semantic_type\": \"\",\n        \"description\": \"\"\n      }\n    },\n    {\n      \"column\": \"Phosphorus (P)\",\n      \"properties\": {\n        \"dtype\": \"number\",\n        \"std\": 1.913479424705667,\n        \"min\": 18.0,\n        \"max\": 25.0,\n        \"num_unique_values\": 8,\n        \"samples\": [\n          20.0,\n          18.0,\n          24.0\n        ],\n        \"semantic_type\": \"\",\n        \"description\": \"\"\n      }\n    },\n    {\n      \"column\": \"Potassium (K)\",\n      \"properties\": {\n        \"dtype\": \"number\",\n        \"std\": 1.811754989050914,\n        \"min\": 15.0,\n        \"max\": 22.0,\n        \"num_unique_values\": 8,\n        \"samples\": [\n          18.0,\n          17.0,\n          20.0\n        ],\n        \"semantic_type\": \"\",\n        \"description\": \"\"\n      }\n    },\n    {\n      \"column\": \"Yeild (Q/acre)\",\n      \"properties\": {\n        \"dtype\": \"number\",\n        \"std\": 1.927609873538057,\n        \"min\": 5.5,\n        \"max\": 12.0,\n        \"num_unique_values\": 13,\n        \"samples\": [\n          9.5,\n          7.5,\n          12.0\n        ],\n        \"semantic_type\": \"\",\n        \"description\": \"\"\n      }\n    }\n  ]\n}"
            }
          },
          "metadata": {},
          "execution_count": 35
        }
      ],
      "source": [
        "df.head(3)"
      ]
    },
    {
      "cell_type": "code",
      "execution_count": null,
      "metadata": {
        "id": "iT75-n83BRpQ"
      },
      "outputs": [],
      "source": [
        "h = pd.DataFrame({'Yeild (Q/acre)': [12.0]})\n",
        "j = pd.Series([12.0], name='Yeild (Q/acre)')"
      ]
    },
    {
      "cell_type": "code",
      "execution_count": null,
      "metadata": {
        "id": "uEu3Ssc4V1PJ"
      },
      "outputs": [],
      "source": [
        "from sklearn.model_selection import train_test_split\n",
        "from sklearn.linear_model import LinearRegression\n",
        "from scipy.optimize import differential_evolution"
      ]
    },
    {
      "cell_type": "code",
      "execution_count": null,
      "metadata": {
        "id": "CP6CoYOCTOcH"
      },
      "outputs": [],
      "source": [
        "import pandas as pd\n",
        "from sklearn.model_selection import train_test_split\n",
        "from sklearn.linear_model import LinearRegression\n",
        "def differential_evolution(model, X_train, y_train, X_val, y_val, bounds, F=0.5, CR=0.9, popsize=20, max_iter=100):\n",
        "\n",
        "  # Ensure data is in pandas DataFrames and Series\n",
        "  if not isinstance(X_train, pd.DataFrame):\n",
        "      X_train = pd.DataFrame(X_train)\n",
        "  if not isinstance(y_train, pd.Series):\n",
        "      y_train = pd.Series(y_train)\n",
        "  if not isinstance(X_val, pd.DataFrame):\n",
        "      X_val = pd.DataFrame(X_val)\n",
        "  if not isinstance(y_val, pd.Series):\n",
        "      y_val = pd.Series(y_val)\n",
        "\n",
        "  # Fitness function\n",
        "  def fitness(params):\n",
        "      # Unpack hyperparameters from array into a dictionary\n",
        "      params_dict = dict(zip(bounds.T[0], params))  # Assuming bounds is a 2D array with hyperparameter names in the first column\n",
        "\n",
        "      model.set_params(**params_dict)  # Set hyperparameters on the model using the dictionary\n",
        "      model.fit(X_train, y_train)  # Train the model\n",
        "      return -model.score(X_val, y_val)  # Minimize negative evaluation metric (e.g., mean squared error)\n",
        "\n",
        "  # Main loop\n",
        "  population = np.random.rand(popsize, len(bounds)) * (bounds[:, 1] - bounds[:, 0]) + bounds[:, 0]\n",
        "  for iter in range(max_iter):\n",
        "      for i in range(popsize):\n",
        "          # Differential mutation\n",
        "          a, b, c = np.random.choice(popsize, size=3, replace=False)\n",
        "          mutant = population[a] + F * (population[b] - population[c])\n",
        "\n",
        "          # Crossover\n",
        "          trial = np.copy(population[i])\n",
        "          crossover_points = np.random.rand(len(bounds)) < CR\n",
        "          trial[crossover_points] = mutant[crossover_points]\n",
        "\n",
        "          # Bounds handling\n",
        "          trial = np.clip(trial, bounds[:, 0], bounds[:, 1])\n",
        "\n",
        "          # Selection\n",
        "          if fitness(trial) < fitness(population[i]):\n",
        "              population[i] = trial\n",
        "\n",
        "      # Update best solution\n",
        "      best_index = np.argmin(fitness(population))\n",
        "      best_params = population[best_index]\n",
        "\n",
        "  # Return best model and parameters\n",
        "  model.set_params(params)\n",
        "  model.fit(X_train, y_train)\n",
        "  return model, params\n",
        "\n",
        "# Ensure your data is in pandas DataFrames and Series\n",
        "X_train = pd.DataFrame({'Yield (Q/acre)': [12.0]})  # Training features\n",
        "y_train = pd.Series([12.0], name='Yield (Q/acre)')  # Training labels (crop yield)\n",
        "X_val = pd.DataFrame({'Yield (Q/acre)': [8.0]})  # Validation features\n",
        "y_val = pd.Series([8.0], name='Yield (Q/acre)')  # Validation labels (crop yield)"
      ]
    },
    {
      "cell_type": "code",
      "execution_count": null,
      "metadata": {
        "colab": {
          "base_uri": "https://localhost:8080/"
        },
        "id": "yLzfFJPRHGg4",
        "outputId": "557a1286-4838-4c5d-9079-be839aded83d"
      },
      "outputs": [
        {
          "output_type": "stream",
          "name": "stdout",
          "text": [
            "Index(['Rain Fall (mm)', 'Fertilizer', 'Temperatue', 'Nitrogen (N)',\n",
            "       'Phosphorus (P)', 'Potassium (K)', 'Yeild (Q/acre)'],\n",
            "      dtype='object')\n"
          ]
        }
      ],
      "source": [
        "print(df.columns)"
      ]
    },
    {
      "cell_type": "code",
      "execution_count": null,
      "metadata": {
        "id": "lGZSAixnVBLi"
      },
      "outputs": [],
      "source": [
        "#Nature optimized algorithm starts from here:\n",
        "import random\n",
        "# Define a class to represent a solution\n",
        "class Solution:\n",
        "  def __init__(self, Fertilizer):\n",
        "    self.Fertilizer = Fertilizer\n",
        "\n",
        "  # Function to evaluate the solution\n",
        "  def fitness(self):\n",
        "    return random.uniform(0, 1)"
      ]
    },
    {
      "cell_type": "code",
      "execution_count": null,
      "metadata": {
        "id": "RlXEvDz-UsjC"
      },
      "outputs": [],
      "source": [
        "# Defining genetic function\n",
        "def roulette_wheel_selection(Fertilizer):\n",
        "\n",
        "  # Calculate total fitness\n",
        "  total_fitness = sum(individual.fitness() for individual in Fertilizer)\n",
        "\n",
        "  # Assign selection probabilities\n",
        "  probabilities = [individual.fitness() / total_fitness for individual in Fertilizer]\n",
        "\n",
        "  # Spin the roulette wheel (random selection based on probabilities)\n",
        "  parent1_index = np.random.choice(len(Fertilizer), p=probabilities)\n",
        "  parent2_index = np.random.choice(len(Fertilizer), p=probabilities)\n",
        "\n",
        "  # Return selected parents\n",
        "  return Fertilizer[0], Fertilizer[1]\n"
      ]
    },
    {
      "cell_type": "code",
      "execution_count": null,
      "metadata": {
        "id": "vUPlKtcFVErR"
      },
      "outputs": [],
      "source": [
        "def crossover(parent1, parent2):\n",
        "  # Implement a crossover strategy to create offspring\n",
        "  # Combine genes from parents to create new solutions\n",
        "  crossover_point = random.randint(1, len(parent1.genes) - 1)\n",
        "  offspring1 = Solution(parent1.genes[:crossover_point] + parent2.genes[crossover_point:])\n",
        "  offspring2 = Solution(parent2.genes[:crossover_point] + parent1.genes[crossover_point:])\n",
        "  return offspring1, offspring2"
      ]
    },
    {
      "cell_type": "code",
      "execution_count": null,
      "metadata": {
        "id": "3KyIgmWXVJ_3"
      },
      "outputs": [],
      "source": [
        "\n",
        "def mutation(solution):\n",
        "  # Implement a mutation strategy\n",
        "  for i in range(len(solution.genes)):\n",
        "    if random.random() < mutation_rate:\n",
        "      solution.genes[i] = random.uniform(min_value, max_value)\n",
        "  return solution\n"
      ]
    },
    {
      "cell_type": "code",
      "execution_count": null,
      "metadata": {
        "id": "Z7fxUYwXZTeL"
      },
      "outputs": [],
      "source": [
        "def selection(population):\n",
        "  # Placeholder selection function\n",
        "  parent1 = random.choice(population)\n",
        "  parent2 = random.choice(population)\n",
        "  return parent1, parent2\n",
        "\n",
        "# Main loop for GA iterations\n",
        "num_generations = 100\n",
        "for generation in range(num_generations):\n",
        "  # Selection\n",
        "  pop_size = 100\n",
        "  num_genes = len(X_train.columns)\n",
        "  population = [Solution([random.uniform(0, 1) for _ in range(num_genes)]) for _ in range(pop_size)]\n",
        "\n",
        "  parents = selection(population)\n",
        "\n"
      ]
    },
    {
      "cell_type": "code",
      "execution_count": null,
      "metadata": {
        "colab": {
          "base_uri": "https://localhost:8080/"
        },
        "id": "RCEI5DuEtqp0",
        "outputId": "1921c470-cd90-444d-c044-fc6f910b1e52"
      },
      "outputs": [
        {
          "output_type": "stream",
          "name": "stdout",
          "text": [
            "Collecting deap\n",
            "  Downloading deap-1.4.1-cp310-cp310-manylinux_2_5_x86_64.manylinux1_x86_64.manylinux_2_17_x86_64.manylinux2014_x86_64.whl (135 kB)\n",
            "\u001b[?25l     \u001b[90m━━━━━━━━━━━━━━━━━━━━━━━━━━━━━━━━━━━━━━━━\u001b[0m \u001b[32m0.0/135.4 kB\u001b[0m \u001b[31m?\u001b[0m eta \u001b[36m-:--:--\u001b[0m\r\u001b[2K     \u001b[90m━━━━━━━━━━━━━━━━━━━━━━━━━━━━━━━━━━━━━━━━\u001b[0m \u001b[32m135.4/135.4 kB\u001b[0m \u001b[31m5.4 MB/s\u001b[0m eta \u001b[36m0:00:00\u001b[0m\n",
            "\u001b[?25hRequirement already satisfied: numpy in /usr/local/lib/python3.10/dist-packages (from deap) (1.25.2)\n",
            "Installing collected packages: deap\n",
            "Successfully installed deap-1.4.1\n"
          ]
        }
      ],
      "source": [
        "!pip install deap"
      ]
    },
    {
      "cell_type": "code",
      "execution_count": null,
      "metadata": {
        "id": "MLdbHpH_tuhs"
      },
      "outputs": [],
      "source": [
        "from deap import base, creator, tools, algorithms\n",
        "import random"
      ]
    },
    {
      "cell_type": "code",
      "execution_count": null,
      "metadata": {
        "id": "Dmu1sC3ktw0k"
      },
      "outputs": [],
      "source": [
        "creator.create(\"Solution\", base.Fitness, weights=(1.0,))\n"
      ]
    },
    {
      "cell_type": "code",
      "execution_count": null,
      "metadata": {
        "id": "3OGdB391tyKU"
      },
      "outputs": [],
      "source": [
        "creator.Solution.genes = list\n"
      ]
    },
    {
      "cell_type": "code",
      "execution_count": null,
      "metadata": {
        "id": "sU0_cYdruJEH"
      },
      "outputs": [],
      "source": [
        "\n",
        "# Evaluate fitness of the new generation\n",
        "next_generation = []\n",
        "for individual in next_generation:\n",
        "  individual.fitness()  # Call the fitness method to calculate and assign the score\n",
        "\n"
      ]
    },
    {
      "cell_type": "code",
      "execution_count": null,
      "metadata": {
        "id": "YoZz4zbxuplL"
      },
      "outputs": [],
      "source": [
        "from deap import base\n",
        "\n",
        "class SimpleFitness(base.Fitness):\n",
        "    def __init__(self):\n",
        "        super().__init__()\n",
        "        self.values = (0.0,)  # Initialize with a single value (replace with actual score calculation)\n"
      ]
    },
    {
      "cell_type": "code",
      "execution_count": null,
      "metadata": {
        "id": "oFerwLmnuryb"
      },
      "outputs": [],
      "source": [
        "from deap import creator\n",
        "\n",
        "creator.create(\"Fitness\", SimpleFitness)\n",
        "creator.create(\"Individual\", list, fitness=creator.Fitness)\n"
      ]
    },
    {
      "cell_type": "code",
      "execution_count": null,
      "metadata": {
        "colab": {
          "base_uri": "https://localhost:8080/"
        },
        "id": "_t8Kd8GquuFU",
        "outputId": "24d52e14-9e36-4dcf-b3c0-cf4db7fd6fbe"
      },
      "outputs": [
        {
          "output_type": "stream",
          "name": "stderr",
          "text": [
            "/usr/local/lib/python3.10/dist-packages/deap/creator.py:185: RuntimeWarning: A class named 'Fitness' has already been created and it will be overwritten. Consider deleting previous creation of that class or rename it.\n",
            "  warnings.warn(\"A class named '{0}' has already been created and it \"\n",
            "/usr/local/lib/python3.10/dist-packages/deap/creator.py:185: RuntimeWarning: A class named 'Individual' has already been created and it will be overwritten. Consider deleting previous creation of that class or rename it.\n",
            "  warnings.warn(\"A class named '{0}' has already been created and it \"\n"
          ]
        }
      ],
      "source": [
        "from deap import base, creator\n",
        "\n",
        "# Define a custom fitness class without weights\n",
        "class SimpleFitness(base.Fitness):\n",
        "  def __init__(self):\n",
        "    super().__init__()\n",
        "    self.values = (0.0,)  # Initialize with a single value (replace with actual score calculation)\n",
        "\n",
        "# Register fitness and individual classes\n",
        "creator.create(\"Fitness\", SimpleFitness)\n",
        "creator.create(\"Individual\", list, fitness=creator.Fitness)\n",
        "\n",
        "# ... (rest of your GA implementation)\n"
      ]
    },
    {
      "cell_type": "code",
      "execution_count": null,
      "metadata": {
        "id": "HsMf5meL_5j-"
      },
      "outputs": [],
      "source": [
        "from deap import tools"
      ]
    },
    {
      "cell_type": "code",
      "execution_count": null,
      "metadata": {
        "colab": {
          "base_uri": "https://localhost:8080/"
        },
        "id": "_vJcfRizBhmJ",
        "outputId": "82c923d9-f4b5-44b7-c401-0a0266bf5f57"
      },
      "outputs": [
        {
          "output_type": "stream",
          "name": "stdout",
          "text": [
            "Collecting stats\n",
            "  Downloading stats-0.1.2a.tar.gz (127 kB)\n",
            "\u001b[?25l     \u001b[90m━━━━━━━━━━━━━━━━━━━━━━━━━━━━━━━━━━━━━━━━\u001b[0m \u001b[32m0.0/127.6 kB\u001b[0m \u001b[31m?\u001b[0m eta \u001b[36m-:--:--\u001b[0m\r\u001b[2K     \u001b[90m━━━━━━━━━━━━━━━━━━━━━━━━━━━━━━━━━━━━━━━━\u001b[0m \u001b[32m127.6/127.6 kB\u001b[0m \u001b[31m4.5 MB/s\u001b[0m eta \u001b[36m0:00:00\u001b[0m\n",
            "\u001b[?25h  Preparing metadata (setup.py) ... \u001b[?25l\u001b[?25hdone\n",
            "Building wheels for collected packages: stats\n",
            "  Building wheel for stats (setup.py) ... \u001b[?25l\u001b[?25hdone\n",
            "  Created wheel for stats: filename=stats-0.1.2a0-py3-none-any.whl size=24283 sha256=a614f7e8be73861df4c836cb849fb1782b8375ee1acad61de4d0d2441f18b532\n",
            "  Stored in directory: /root/.cache/pip/wheels/c9/85/bc/3371b9bce1e4f7b8b638e8c968a4dbd74db171ee180c48f808\n",
            "Successfully built stats\n",
            "Installing collected packages: stats\n",
            "Successfully installed stats-0.1.2a0\n"
          ]
        }
      ],
      "source": [
        "!pip install stats"
      ]
    },
    {
      "cell_type": "code",
      "execution_count": null,
      "metadata": {
        "id": "mxGE2zgI_8n7"
      },
      "outputs": [],
      "source": [
        "def evaluate_fitness(mean_absolute_error):\n",
        "  return random.random()"
      ]
    },
    {
      "cell_type": "code",
      "execution_count": null,
      "metadata": {
        "id": "F6D2fiQI_-va"
      },
      "outputs": [],
      "source": [
        "for individual in next_generation:\n",
        "  individual.fitness.values = evaluate_fitness(individual)"
      ]
    },
    {
      "cell_type": "code",
      "execution_count": null,
      "metadata": {
        "colab": {
          "base_uri": "https://localhost:8080/"
        },
        "id": "55fZCt0BTazr",
        "outputId": "3302ea3d-ef9b-4eb8-a832-24ec1df0210e"
      },
      "outputs": [
        {
          "output_type": "stream",
          "name": "stderr",
          "text": [
            "/usr/local/lib/python3.10/dist-packages/deap/creator.py:185: RuntimeWarning: A class named 'Solution' has already been created and it will be overwritten. Consider deleting previous creation of that class or rename it.\n",
            "  warnings.warn(\"A class named '{0}' has already been created and it \"\n"
          ]
        }
      ],
      "source": [
        "# GA parameters\n",
        "population_size = 100\n",
        "num_generations = 50\n",
        "mutation_rate = 0.01\n",
        "min_value = 0\n",
        "max_value = 10\n",
        "num_parameters\n",
        "\n",
        "# Define the fitness evaluation function\n",
        "def evaluate_fitness(individual):\n",
        "  pass\n",
        "\n",
        "# Create the toolbox\n",
        "toolbox = base.Toolbox()\n",
        "\n",
        "# Register the solution type\n",
        "creator.create(\"Solution\", base.Fitness, weights=(1.0,))\n",
        "\n",
        "# Register the genetic operators\n",
        "toolbox.register(\"mate\", tools.cxUniform, indpb=0.5)\n",
        "toolbox.register(\"mutate\", tools.mutGaussian, mu=0, sigma=1, indpb=0.2)\n",
        "toolbox.register(\"select\", tools.selTournament, tournsize=3)\n",
        "\n"
      ]
    },
    {
      "cell_type": "code",
      "execution_count": null,
      "metadata": {
        "id": "JgJ9fk-MHj7p"
      },
      "outputs": [],
      "source": [
        "import pandas as pd\n",
        "from sklearn.model_selection import train_test_split\n",
        "from sklearn.linear_model import LinearRegression\n",
        "\n",
        "X = df.drop('Yeild (Q/acre)', axis=1)  # Training features\n",
        "y = df['Yeild (Q/acre)']  # Training labels\n",
        "\n",
        "X_train, X_val, y_train, y_val = train_test_split(X, y, test_size=0.2)\n"
      ]
    },
    {
      "cell_type": "code",
      "execution_count": null,
      "metadata": {
        "colab": {
          "base_uri": "https://localhost:8080/"
        },
        "id": "QlKWDM39HVqu",
        "outputId": "1677ba0f-bff8-4d4f-aff6-a66e5e634fc1"
      },
      "outputs": [
        {
          "output_type": "stream",
          "name": "stdout",
          "text": [
            "Index(['Rain Fall (mm)', 'Fertilizer', 'Temperatue', 'Nitrogen (N)',\n",
            "       'Phosphorus (P)', 'Potassium (K)', 'Yeild (Q/acre)'],\n",
            "      dtype='object')\n"
          ]
        }
      ],
      "source": [
        "print(df.columns)"
      ]
    },
    {
      "cell_type": "code",
      "execution_count": null,
      "metadata": {
        "id": "3tdzP3lKIAme"
      },
      "outputs": [],
      "source": [
        "import pandas as pd\n",
        "from sklearn.model_selection import train_test_split\n",
        "from sklearn.linear_model import LinearRegression\n",
        "\n",
        "if 'Yeild (Q/acre)' in df.columns:\n",
        "    X = df.drop('Yeild (Q/acre)', axis=1)\n",
        "    y = df['Yeild (Q/acre)']\n",
        "else:\n",
        "    print(\"Error: Column 'Yield (Q/acre)' not found in data. Check spelling and case sensitivity.\")\n",
        "    # Handle missing column\n",
        "\n",
        "X_train, X_val, y_train, y_val = train_test_split(X, y, test_size=0.2)\n"
      ]
    },
    {
      "cell_type": "markdown",
      "metadata": {
        "id": "glkWnK9BDeKr"
      },
      "source": [
        "\n",
        "**Model Building**"
      ]
    },
    {
      "cell_type": "code",
      "execution_count": null,
      "metadata": {
        "id": "3uJwzT3s_WFP"
      },
      "outputs": [],
      "source": [
        "from sklearn.preprocessing import OneHotEncoder\n",
        "from sklearn.compose import ColumnTransformer\n",
        "from sklearn.preprocessing import StandardScaler\n",
        "ohe = OneHotEncoder(drop='first')\n",
        "scale = StandardScaler()\n",
        "\n",
        "preprocesser = ColumnTransformer(\n",
        "        transformers = [\n",
        "            ('StandardScale', scale, [0, 1, 2, 3]),\n",
        "            ('OHE', ohe, [4, 5]),\n",
        "        ],\n",
        "        remainder='passthrough'\n",
        ")"
      ]
    },
    {
      "cell_type": "code",
      "execution_count": null,
      "metadata": {
        "id": "Zt1XAEqu_RII"
      },
      "outputs": [],
      "source": [
        "X_train_dummy = preprocesser.fit_transform(X_train)\n",
        "X_test_dummy = preprocesser.transform(X_test)"
      ]
    },
    {
      "cell_type": "code",
      "execution_count": null,
      "metadata": {
        "colab": {
          "base_uri": "https://localhost:8080/"
        },
        "id": "dHn5K0xI_ayv",
        "outputId": "ba71ce38-39b5-412e-efab-212333fe4ebd"
      },
      "outputs": [
        {
          "output_type": "execute_result",
          "data": {
            "text/plain": [
              "array(['StandardScale__Rain Fall (mm)', 'StandardScale__Fertilizer',\n",
              "       'StandardScale__Temperatue', 'StandardScale__Nitrogen (N)',\n",
              "       'OHE__Phosphorus (P)_19.0', 'OHE__Phosphorus (P)_20.0',\n",
              "       'OHE__Phosphorus (P)_21.0', 'OHE__Phosphorus (P)_22.0',\n",
              "       'OHE__Phosphorus (P)_23.0', 'OHE__Phosphorus (P)_24.0',\n",
              "       'OHE__Phosphorus (P)_25.0', 'OHE__Potassium (K)_16.0',\n",
              "       'OHE__Potassium (K)_17.0', 'OHE__Potassium (K)_18.0',\n",
              "       'OHE__Potassium (K)_19.0', 'OHE__Potassium (K)_20.0',\n",
              "       'OHE__Potassium (K)_21.0', 'OHE__Potassium (K)_22.0'], dtype=object)"
            ]
          },
          "metadata": {},
          "execution_count": 79
        }
      ],
      "source": [
        "preprocesser.get_feature_names_out(col[:-1])"
      ]
    },
    {
      "cell_type": "code",
      "execution_count": null,
      "metadata": {
        "colab": {
          "base_uri": "https://localhost:8080/"
        },
        "id": "L3ndAoPEDjpT",
        "outputId": "b6987eb8-b010-4d66-8519-7c3a639cf110"
      },
      "outputs": [
        {
          "output_type": "stream",
          "name": "stdout",
          "text": [
            "lr : mae : 0.5295970831398874, mse: 0.44076663508567027 score : 0.8623679515735612\n",
            "lss : mae : 1.081845446456444, mse: 1.6290005644962033 score : 0.49133471834622855\n",
            "Rid : mae : 0.5852767491225064, mse: 0.5164380933689339 score : 0.8387390809152432\n",
            "Dtr : mae : 0.1375, mse: 0.165625 score : 0.9482825917252147\n",
            "Rfr : mae : 0.3644083333333333, mse: 0.23653972013888894 score : 0.9261390413305577\n"
          ]
        }
      ],
      "source": [
        "\n",
        "from sklearn.linear_model import LinearRegression,Lasso,Ridge\n",
        "from sklearn.neighbors import KNeighborsRegressor\n",
        "from sklearn.tree import DecisionTreeRegressor\n",
        "from sklearn.ensemble import RandomForestRegressor\n",
        "from sklearn.metrics import mean_absolute_error,mean_squared_error,r2_score\n",
        "\n",
        "\n",
        "models = {\n",
        "    'lr':LinearRegression(),\n",
        "    'lss':Lasso(),\n",
        "    'Rid':Ridge(),\n",
        "    'Dtr':DecisionTreeRegressor(),\n",
        "    'Rfr':RandomForestRegressor()\n",
        "}\n",
        "for name, md in models.items():\n",
        "    md.fit(X_train_dummy,y_train)\n",
        "    y_pred = md.predict(X_test_dummy)\n",
        "\n",
        "    print(f\"{name} : mae : {mean_absolute_error(y_test,y_pred)}, mse: {mean_squared_error(y_test, y_pred)} score : {r2_score(y_test,y_pred)}\" )"
      ]
    },
    {
      "cell_type": "code",
      "execution_count": null,
      "metadata": {
        "id": "bx8TByrS18PP"
      },
      "outputs": [],
      "source": [
        "dtr = DecisionTreeRegressor()"
      ]
    },
    {
      "cell_type": "code",
      "execution_count": null,
      "metadata": {
        "colab": {
          "base_uri": "https://localhost:8080/"
        },
        "id": "HbYz7SRP6v_J",
        "outputId": "6fba07f4-902e-42d4-bd89-e21071c75b78"
      },
      "outputs": [
        {
          "output_type": "stream",
          "name": "stdout",
          "text": [
            "Fitting 5 folds for each of 128 candidates, totalling 640 fits\n",
            "{'max_depth': 6, 'min_samples_leaf': 2, 'min_samples_split': 2, 'random_state': 0}\n"
          ]
        }
      ],
      "source": [
        "from sklearn.model_selection import GridSearchCV\n",
        "\n",
        "#parameters for grid search\n",
        "para = {\n",
        "    \"max_depth\": [2,4,6,8],\n",
        "    \"min_samples_split\": [2,4,6,8],\n",
        "    \"min_samples_leaf\": [2,4,6,8],\n",
        "    \"random_state\": [0,42]\n",
        "}\n",
        "\n",
        "#Grid search object\n",
        "grid = GridSearchCV(dtr, para, cv = 5, n_jobs = -1, verbose = 1)\n",
        "\n",
        "#fitting the grid search object\n",
        "grid.fit(X_train_dummy, X_train_dummy)\n",
        "\n",
        "#best parameters\n",
        "print(grid.best_params_)"
      ]
    },
    {
      "cell_type": "code",
      "execution_count": null,
      "metadata": {
        "colab": {
          "base_uri": "https://localhost:8080/"
        },
        "id": "aYWP1JiGjS6V",
        "outputId": "2fd0b889-28c9-47a1-d0d8-e4febac96120"
      },
      "outputs": [
        {
          "output_type": "stream",
          "name": "stdout",
          "text": [
            "0.9999684704915968\n"
          ]
        }
      ],
      "source": [
        "from sklearn.tree import DecisionTreeRegressor\n",
        "dtr = DecisionTreeRegressor(max_depth = 8, min_samples_leaf = 1, min_samples_split = 2, random_state = 0)\n",
        "#fitting the model\n",
        "dtr.fit(X_train_dummy, X_train_dummy)\n",
        "\n",
        "#training score\n",
        "print(dtr.score(X_train_dummy, X_train_dummy))\n",
        "\n",
        "\n",
        "d_pred = dtr.predict(X_test_dummy)"
      ]
    },
    {
      "cell_type": "code",
      "execution_count": null,
      "metadata": {
        "id": "D8F8dDL8DoUC"
      },
      "outputs": [],
      "source": [
        "from sklearn.ensemble import RandomForestRegressor\n",
        "\n",
        "#Random Forest Regressor object\n",
        "rfr = RandomForestRegressor()"
      ]
    },
    {
      "cell_type": "code",
      "execution_count": null,
      "metadata": {
        "colab": {
          "base_uri": "https://localhost:8080/"
        },
        "id": "5HRE_-NBDq1j",
        "outputId": "3ad753d2-e283-4859-bcec-914e17d787d0"
      },
      "outputs": [
        {
          "output_type": "stream",
          "name": "stdout",
          "text": [
            "Fitting 5 folds for each of 384 candidates, totalling 1920 fits\n",
            "{'max_depth': 4, 'min_samples_leaf': 4, 'min_samples_split': 2, 'n_estimators': 100, 'random_state': 0}\n"
          ]
        }
      ],
      "source": [
        "from sklearn.model_selection import GridSearchCV\n",
        "\n",
        "#parameters for grid search\n",
        "para = {\n",
        "    \"n_estimators\": [100,200,300],\n",
        "    \"max_depth\": [2,4,6,8],\n",
        "    \"min_samples_split\": [2,4,6,8],\n",
        "    \"min_samples_leaf\": [2,4,6,8],\n",
        "    \"random_state\": [0,42]\n",
        "}\n",
        "\n",
        "#Grid search object\n",
        "grid = GridSearchCV(rfr, para, cv = 5, n_jobs = -1, verbose = 1)\n",
        "\n",
        "#fitting the grid search object\n",
        "grid.fit(X_train, y_train)\n",
        "\n",
        "#best parameters\n",
        "print(grid.best_params_)"
      ]
    },
    {
      "cell_type": "code",
      "execution_count": null,
      "metadata": {
        "colab": {
          "base_uri": "https://localhost:8080/"
        },
        "id": "UKxFZHTaDzIy",
        "outputId": "e83e8a0e-fce1-45c6-afe7-2414c877766f"
      },
      "outputs": [
        {
          "output_type": "stream",
          "name": "stdout",
          "text": [
            "0.9758341928937918\n"
          ]
        }
      ],
      "source": [
        "#Random Forest Regressor with best parameters\n",
        "rfr = RandomForestRegressor(max_depth = 8, min_samples_leaf = 1, min_samples_split = 2, n_estimators = 100, random_state = 0)\n",
        "\n",
        "#fitting the model\n",
        "rfr.fit(X_train, y_train)\n",
        "\n",
        "#training score\n",
        "print(rfr.score(X_train, y_train))\n",
        "\n",
        "#prediction\n",
        "r_pred = rfr.predict(X_test)"
      ]
    },
    {
      "cell_type": "code",
      "execution_count": null,
      "metadata": {
        "colab": {
          "base_uri": "https://localhost:8080/",
          "height": 423
        },
        "id": "4sbcIcOX9BIl",
        "outputId": "167d2af7-8dc5-4e8f-8778-e75131d6d073"
      },
      "outputs": [
        {
          "output_type": "execute_result",
          "data": {
            "text/plain": [
              "<Axes: title={'center': 'Random Forest Regressor'}, xlabel='Yeild (Q/acre)', ylabel='Count'>"
            ]
          },
          "metadata": {},
          "execution_count": 94
        },
        {
          "output_type": "display_data",
          "data": {
            "text/plain": [
              "<Figure size 1500x500 with 2 Axes>"
            ],
            "image/png": "[encoded data removed]"
          },
          "metadata": {}
        }
      ],
      "source": [
        "fig, ax = plt.subplots(1,2,figsize=(15, 5))\n",
        "\n",
        "#plotting the actual vs predicted values for decision tree regressor\n",
        "sns.histplot(y_test, ax = ax[0]).set_title('Decision Tree Regressor')\n",
        "sns.histplot(d_pred, ax = ax[0])\n",
        "\n",
        "#plotting the actual vs predicted values for random forest regressor\n",
        "sns.histplot(y_test, ax = ax[1]).set_title('Random Forest Regressor')\n",
        "sns.histplot(r_pred, ax = ax[1])\n"
      ]
    }
  ],
  "metadata": {
    "colab": {
      "provenance": [],
      "include_colab_link": true
    },
    "kernelspec": {
      "display_name": "Python 3",
      "name": "python3"
    },
    "language_info": {
      "name": "python"
    }
  },
  "nbformat": 4,
  "nbformat_minor": 0
}